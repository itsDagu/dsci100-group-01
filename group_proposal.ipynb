{
 "cells": [
  {
   "cell_type": "markdown",
   "id": "4b66a053-7b56-452d-bb1c-b94f816cc76b",
   "metadata": {},
   "source": [
    "# Classifying Heart Disease in Patients using Multivariate \n",
    "#### Research question: Which physiological risk factors are most suitable for accurately classifying heart disease among patients?"
   ]
  },
  {
   "cell_type": "markdown",
   "id": "2a6014a4-5b03-44b0-a148-951b52ee4e70",
   "metadata": {},
   "source": [
    "## Introduction"
   ]
  },
  {
   "cell_type": "markdown",
   "id": "c09ac6a6-521c-4765-983f-b44255ad3f79",
   "metadata": {},
   "source": [
    "(Ada)\n",
    "- Provide some relevant background information on the topic so that someone unfamiliar with it will be prepared to understand the rest of your proposal\n",
    "- Clearly state the question you will try to answer with your project\n",
    "- Identify and describe the dataset that will be used to answer the question \n",
    "\n",
    "This dataset includes the many factors considered to diagnose heart disease in a patient. The attributes we will consider include age, sex, and rest BP (resting blood pressure in mm Hg on admission to the hospital). We will use these attributes to train the program to be able to predict the presence of heart disease in new patients. The presence will be on a level of 0 to 4, with 0 being no presence. "
   ]
  },
  {
   "cell_type": "markdown",
   "id": "fe9a5d33-3db8-45b4-864f-b6b3f0b63976",
   "metadata": {},
   "source": [
    "## Preliminary exploratory data analysis"
   ]
  },
  {
   "cell_type": "markdown",
   "id": "bddd1496-15aa-4bbe-b0a9-5161733ef19e",
   "metadata": {},
   "source": [
    "(Nicholas, David)\n",
    "- Demonstrate that the dataset can be read from the web into R \n",
    "- Clean and wrangle your data into a tidy format\n",
    "- Using only training data, summarize the data in at least one table (this is exploratory data analysis). An example of a useful table could be one that reports the number of observations in each class, the means of the predictor variables you plan to use in your analysis and how many rows have missing data. \n",
    "- Using only training data, visualize the data with at least one plot relevant to the analysis you plan to do (this is exploratory data analysis). An example of a useful visualization could be one that compares the distributions of each of the predictor variables you plan to use in your analysis.\n"
   ]
  },
  {
   "cell_type": "code",
   "execution_count": 1,
   "id": "72a96ffc-1f96-4dbd-bf23-36e533f3719d",
   "metadata": {
    "tags": []
   },
   "outputs": [
    {
     "name": "stderr",
     "output_type": "stream",
     "text": [
      "── \u001b[1mAttaching packages\u001b[22m ─────────────────────────────────────── tidyverse 1.3.1 ──\n",
      "\n",
      "\u001b[32m✔\u001b[39m \u001b[34mggplot2\u001b[39m 3.3.6     \u001b[32m✔\u001b[39m \u001b[34mpurrr  \u001b[39m 0.3.4\n",
      "\u001b[32m✔\u001b[39m \u001b[34mtibble \u001b[39m 3.1.7     \u001b[32m✔\u001b[39m \u001b[34mdplyr  \u001b[39m 1.0.9\n",
      "\u001b[32m✔\u001b[39m \u001b[34mtidyr  \u001b[39m 1.2.0     \u001b[32m✔\u001b[39m \u001b[34mstringr\u001b[39m 1.4.0\n",
      "\u001b[32m✔\u001b[39m \u001b[34mreadr  \u001b[39m 2.1.2     \u001b[32m✔\u001b[39m \u001b[34mforcats\u001b[39m 0.5.1\n",
      "\n",
      "── \u001b[1mConflicts\u001b[22m ────────────────────────────────────────── tidyverse_conflicts() ──\n",
      "\u001b[31m✖\u001b[39m \u001b[34mdplyr\u001b[39m::\u001b[32mfilter()\u001b[39m masks \u001b[34mstats\u001b[39m::filter()\n",
      "\u001b[31m✖\u001b[39m \u001b[34mdplyr\u001b[39m::\u001b[32mlag()\u001b[39m    masks \u001b[34mstats\u001b[39m::lag()\n",
      "\n",
      "── \u001b[1mAttaching packages\u001b[22m ────────────────────────────────────── tidymodels 1.0.0 ──\n",
      "\n",
      "\u001b[32m✔\u001b[39m \u001b[34mbroom       \u001b[39m 1.0.0     \u001b[32m✔\u001b[39m \u001b[34mrsample     \u001b[39m 1.0.0\n",
      "\u001b[32m✔\u001b[39m \u001b[34mdials       \u001b[39m 1.0.0     \u001b[32m✔\u001b[39m \u001b[34mtune        \u001b[39m 1.0.0\n",
      "\u001b[32m✔\u001b[39m \u001b[34minfer       \u001b[39m 1.0.2     \u001b[32m✔\u001b[39m \u001b[34mworkflows   \u001b[39m 1.0.0\n",
      "\u001b[32m✔\u001b[39m \u001b[34mmodeldata   \u001b[39m 1.0.0     \u001b[32m✔\u001b[39m \u001b[34mworkflowsets\u001b[39m 1.0.0\n",
      "\u001b[32m✔\u001b[39m \u001b[34mparsnip     \u001b[39m 1.0.0     \u001b[32m✔\u001b[39m \u001b[34myardstick   \u001b[39m 1.0.0\n",
      "\u001b[32m✔\u001b[39m \u001b[34mrecipes     \u001b[39m 1.0.1     \n",
      "\n",
      "── \u001b[1mConflicts\u001b[22m ───────────────────────────────────────── tidymodels_conflicts() ──\n",
      "\u001b[31m✖\u001b[39m \u001b[34mscales\u001b[39m::\u001b[32mdiscard()\u001b[39m masks \u001b[34mpurrr\u001b[39m::discard()\n",
      "\u001b[31m✖\u001b[39m \u001b[34mdplyr\u001b[39m::\u001b[32mfilter()\u001b[39m   masks \u001b[34mstats\u001b[39m::filter()\n",
      "\u001b[31m✖\u001b[39m \u001b[34mrecipes\u001b[39m::\u001b[32mfixed()\u001b[39m  masks \u001b[34mstringr\u001b[39m::fixed()\n",
      "\u001b[31m✖\u001b[39m \u001b[34mdplyr\u001b[39m::\u001b[32mlag()\u001b[39m      masks \u001b[34mstats\u001b[39m::lag()\n",
      "\u001b[31m✖\u001b[39m \u001b[34myardstick\u001b[39m::\u001b[32mspec()\u001b[39m masks \u001b[34mreadr\u001b[39m::spec()\n",
      "\u001b[31m✖\u001b[39m \u001b[34mrecipes\u001b[39m::\u001b[32mstep()\u001b[39m   masks \u001b[34mstats\u001b[39m::step()\n",
      "\u001b[34m•\u001b[39m Use \u001b[32mtidymodels_prefer()\u001b[39m to resolve common conflicts.\n",
      "\n"
     ]
    }
   ],
   "source": [
    "### Run this cell before continuing. \n",
    "library(tidyverse)\n",
    "library(tidymodels)\n",
    "library(repr)\n",
    "options(repr.matrix.max.rows = 6)\n",
    "set.seed(100)"
   ]
  },
  {
   "cell_type": "code",
   "execution_count": 2,
   "id": "3c16a3ce-19ca-4800-ab2b-eee42a924e27",
   "metadata": {},
   "outputs": [
    {
     "name": "stderr",
     "output_type": "stream",
     "text": [
      "\u001b[1mRows: \u001b[22m\u001b[34m303\u001b[39m \u001b[1mColumns: \u001b[22m\u001b[34m14\u001b[39m\n",
      "\u001b[36m──\u001b[39m \u001b[1mColumn specification\u001b[22m \u001b[36m────────────────────────────────────────────────────────\u001b[39m\n",
      "\u001b[1mDelimiter:\u001b[22m \",\"\n",
      "\u001b[31mchr\u001b[39m  (2): major_vessel_num, thal\n",
      "\u001b[32mdbl\u001b[39m (12): age, sex, chest_pain_type, rest_bp, cholesterol, fast_blood_sugar,...\n",
      "\n",
      "\u001b[36mℹ\u001b[39m Use `spec()` to retrieve the full column specification for this data.\n",
      "\u001b[36mℹ\u001b[39m Specify the column types or set `show_col_types = FALSE` to quiet this message.\n",
      "Warning message in is.factor(x):\n",
      "“NAs introduced by coercion”\n"
     ]
    },
    {
     "data": {
      "text/html": [
       "<table class=\"dataframe\">\n",
       "<caption>A tibble: 303 × 15</caption>\n",
       "<thead>\n",
       "\t<tr><th scope=col>age</th><th scope=col>sex</th><th scope=col>chest_pain_type</th><th scope=col>rest_bp</th><th scope=col>cholesterol</th><th scope=col>fast_blood_sugar</th><th scope=col>rest_ecg</th><th scope=col>max_hr</th><th scope=col>ex_angina</th><th scope=col>st_depr</th><th scope=col>slope_peak</th><th scope=col>major_vessel_num</th><th scope=col>thal</th><th scope=col>pres_val</th><th scope=col>presence</th></tr>\n",
       "\t<tr><th scope=col>&lt;dbl&gt;</th><th scope=col>&lt;fct&gt;</th><th scope=col>&lt;fct&gt;</th><th scope=col>&lt;dbl&gt;</th><th scope=col>&lt;dbl&gt;</th><th scope=col>&lt;fct&gt;</th><th scope=col>&lt;fct&gt;</th><th scope=col>&lt;dbl&gt;</th><th scope=col>&lt;fct&gt;</th><th scope=col>&lt;dbl&gt;</th><th scope=col>&lt;fct&gt;</th><th scope=col>&lt;fct&gt;</th><th scope=col>&lt;fct&gt;</th><th scope=col>&lt;fct&gt;</th><th scope=col>&lt;fct&gt;</th></tr>\n",
       "</thead>\n",
       "<tbody>\n",
       "\t<tr><td>63</td><td>1</td><td>1</td><td>145</td><td>233</td><td>1</td><td>2</td><td>150</td><td>0</td><td>2.3</td><td>3</td><td>0.0</td><td>6</td><td>0</td><td>no </td></tr>\n",
       "\t<tr><td>67</td><td>1</td><td>4</td><td>160</td><td>286</td><td>0</td><td>2</td><td>108</td><td>1</td><td>1.5</td><td>2</td><td>3.0</td><td>3</td><td>2</td><td>yes</td></tr>\n",
       "\t<tr><td>67</td><td>1</td><td>4</td><td>120</td><td>229</td><td>0</td><td>2</td><td>129</td><td>1</td><td>2.6</td><td>2</td><td>2.0</td><td>7</td><td>1</td><td>yes</td></tr>\n",
       "\t<tr><td>⋮</td><td>⋮</td><td>⋮</td><td>⋮</td><td>⋮</td><td>⋮</td><td>⋮</td><td>⋮</td><td>⋮</td><td>⋮</td><td>⋮</td><td>⋮</td><td>⋮</td><td>⋮</td><td>⋮</td></tr>\n",
       "\t<tr><td>57</td><td>1</td><td>4</td><td>130</td><td>131</td><td>0</td><td>0</td><td>115</td><td>1</td><td>1.2</td><td>2</td><td>1.0</td><td>7</td><td>3</td><td>yes</td></tr>\n",
       "\t<tr><td>57</td><td>0</td><td>2</td><td>130</td><td>236</td><td>0</td><td>2</td><td>174</td><td>0</td><td>0.0</td><td>2</td><td>1.0</td><td>3</td><td>1</td><td>yes</td></tr>\n",
       "\t<tr><td>38</td><td>1</td><td>3</td><td>138</td><td>175</td><td>0</td><td>0</td><td>173</td><td>0</td><td>0.0</td><td>1</td><td>?  </td><td>3</td><td>0</td><td>no </td></tr>\n",
       "</tbody>\n",
       "</table>\n"
      ],
      "text/latex": [
       "A tibble: 303 × 15\n",
       "\\begin{tabular}{lllllllllllllll}\n",
       " age & sex & chest\\_pain\\_type & rest\\_bp & cholesterol & fast\\_blood\\_sugar & rest\\_ecg & max\\_hr & ex\\_angina & st\\_depr & slope\\_peak & major\\_vessel\\_num & thal & pres\\_val & presence\\\\\n",
       " <dbl> & <fct> & <fct> & <dbl> & <dbl> & <fct> & <fct> & <dbl> & <fct> & <dbl> & <fct> & <fct> & <fct> & <fct> & <fct>\\\\\n",
       "\\hline\n",
       "\t 63 & 1 & 1 & 145 & 233 & 1 & 2 & 150 & 0 & 2.3 & 3 & 0.0 & 6 & 0 & no \\\\\n",
       "\t 67 & 1 & 4 & 160 & 286 & 0 & 2 & 108 & 1 & 1.5 & 2 & 3.0 & 3 & 2 & yes\\\\\n",
       "\t 67 & 1 & 4 & 120 & 229 & 0 & 2 & 129 & 1 & 2.6 & 2 & 2.0 & 7 & 1 & yes\\\\\n",
       "\t ⋮ & ⋮ & ⋮ & ⋮ & ⋮ & ⋮ & ⋮ & ⋮ & ⋮ & ⋮ & ⋮ & ⋮ & ⋮ & ⋮ & ⋮\\\\\n",
       "\t 57 & 1 & 4 & 130 & 131 & 0 & 0 & 115 & 1 & 1.2 & 2 & 1.0 & 7 & 3 & yes\\\\\n",
       "\t 57 & 0 & 2 & 130 & 236 & 0 & 2 & 174 & 0 & 0.0 & 2 & 1.0 & 3 & 1 & yes\\\\\n",
       "\t 38 & 1 & 3 & 138 & 175 & 0 & 0 & 173 & 0 & 0.0 & 1 & ?   & 3 & 0 & no \\\\\n",
       "\\end{tabular}\n"
      ],
      "text/markdown": [
       "\n",
       "A tibble: 303 × 15\n",
       "\n",
       "| age &lt;dbl&gt; | sex &lt;fct&gt; | chest_pain_type &lt;fct&gt; | rest_bp &lt;dbl&gt; | cholesterol &lt;dbl&gt; | fast_blood_sugar &lt;fct&gt; | rest_ecg &lt;fct&gt; | max_hr &lt;dbl&gt; | ex_angina &lt;fct&gt; | st_depr &lt;dbl&gt; | slope_peak &lt;fct&gt; | major_vessel_num &lt;fct&gt; | thal &lt;fct&gt; | pres_val &lt;fct&gt; | presence &lt;fct&gt; |\n",
       "|---|---|---|---|---|---|---|---|---|---|---|---|---|---|---|\n",
       "| 63 | 1 | 1 | 145 | 233 | 1 | 2 | 150 | 0 | 2.3 | 3 | 0.0 | 6 | 0 | no  |\n",
       "| 67 | 1 | 4 | 160 | 286 | 0 | 2 | 108 | 1 | 1.5 | 2 | 3.0 | 3 | 2 | yes |\n",
       "| 67 | 1 | 4 | 120 | 229 | 0 | 2 | 129 | 1 | 2.6 | 2 | 2.0 | 7 | 1 | yes |\n",
       "| ⋮ | ⋮ | ⋮ | ⋮ | ⋮ | ⋮ | ⋮ | ⋮ | ⋮ | ⋮ | ⋮ | ⋮ | ⋮ | ⋮ | ⋮ |\n",
       "| 57 | 1 | 4 | 130 | 131 | 0 | 0 | 115 | 1 | 1.2 | 2 | 1.0 | 7 | 3 | yes |\n",
       "| 57 | 0 | 2 | 130 | 236 | 0 | 2 | 174 | 0 | 0.0 | 2 | 1.0 | 3 | 1 | yes |\n",
       "| 38 | 1 | 3 | 138 | 175 | 0 | 0 | 173 | 0 | 0.0 | 1 | ?   | 3 | 0 | no  |\n",
       "\n"
      ],
      "text/plain": [
       "    age sex chest_pain_type rest_bp cholesterol fast_blood_sugar rest_ecg\n",
       "1   63  1   1               145     233         1                2       \n",
       "2   67  1   4               160     286         0                2       \n",
       "3   67  1   4               120     229         0                2       \n",
       "⋮   ⋮   ⋮   ⋮               ⋮       ⋮           ⋮                ⋮       \n",
       "301 57  1   4               130     131         0                0       \n",
       "302 57  0   2               130     236         0                2       \n",
       "303 38  1   3               138     175         0                0       \n",
       "    max_hr ex_angina st_depr slope_peak major_vessel_num thal pres_val presence\n",
       "1   150    0         2.3     3          0.0              6    0        no      \n",
       "2   108    1         1.5     2          3.0              3    2        yes     \n",
       "3   129    1         2.6     2          2.0              7    1        yes     \n",
       "⋮   ⋮      ⋮         ⋮       ⋮          ⋮                ⋮    ⋮        ⋮       \n",
       "301 115    1         1.2     2          1.0              7    3        yes     \n",
       "302 174    0         0.0     2          1.0              3    1        yes     \n",
       "303 173    0         0.0     1          ?                3    0        no      "
      ]
     },
     "metadata": {},
     "output_type": "display_data"
    }
   ],
   "source": [
    "## Loading the Data\n",
    "heart_data_url <- \"https://archive.ics.uci.edu/ml/machine-learning-databases/heart-disease/processed.cleveland.data\"\n",
    "heart_cols <- c(\"age\", \"sex\", \"chest_pain_type\", \"rest_bp\", \"cholesterol\", \"fast_blood_sugar\", \"rest_ecg\", \"max_hr\", \"ex_angina\", \"st_depr\", \"slope_peak\", \"major_vessel_num\", \"thal\", \"pres_val\")\n",
    "heart_data <- read_csv(heart_data_url, col_names = heart_cols) |>\n",
    "    mutate(sex = as.factor(sex),\n",
    "          chest_pain_type = as.factor(chest_pain_type),\n",
    "          fast_blood_sugar = as.factor(fast_blood_sugar),\n",
    "          rest_ecg = as.factor(rest_ecg),\n",
    "          ex_angina = as.factor(ex_angina),\n",
    "          slope_peak = as.factor(slope_peak),\n",
    "          major_vessel_num = as.factor(major_vessel_num),\n",
    "          thal = as.factor(as.integer(thal)),\n",
    "          pres_val = as.factor(pres_val),\n",
    "          presence = as.factor(ifelse(pres_val == 0, \"no\", \"yes\")))\n",
    "heart_data"
   ]
  },
  {
   "cell_type": "code",
   "execution_count": 3,
   "id": "54b334a2-0eec-4a5c-b64c-6a1849a90162",
   "metadata": {},
   "outputs": [],
   "source": [
    "## Splitting the data into training/testing set\n",
    "heart_split <- heart_data |>\n",
    "    select(age, rest_bp, cholesterol, max_hr, st_depr, presence) |>\n",
    "    initial_split(prop = 0.75, strata = presence)\n",
    "heart_train <- training(heart_split)\n",
    "heart_test <- testing(heart_split)"
   ]
  },
  {
   "cell_type": "code",
   "execution_count": 4,
   "id": "7012b97b-06a7-41db-a075-9eb63b5cf1a0",
   "metadata": {},
   "outputs": [
    {
     "data": {
      "text/html": [
       "<table class=\"dataframe\">\n",
       "<caption>A tibble: 2 × 2</caption>\n",
       "<thead>\n",
       "\t<tr><th scope=col>presence</th><th scope=col>count</th></tr>\n",
       "\t<tr><th scope=col>&lt;fct&gt;</th><th scope=col>&lt;int&gt;</th></tr>\n",
       "</thead>\n",
       "<tbody>\n",
       "\t<tr><td>no </td><td>123</td></tr>\n",
       "\t<tr><td>yes</td><td>104</td></tr>\n",
       "</tbody>\n",
       "</table>\n"
      ],
      "text/latex": [
       "A tibble: 2 × 2\n",
       "\\begin{tabular}{ll}\n",
       " presence & count\\\\\n",
       " <fct> & <int>\\\\\n",
       "\\hline\n",
       "\t no  & 123\\\\\n",
       "\t yes & 104\\\\\n",
       "\\end{tabular}\n"
      ],
      "text/markdown": [
       "\n",
       "A tibble: 2 × 2\n",
       "\n",
       "| presence &lt;fct&gt; | count &lt;int&gt; |\n",
       "|---|---|\n",
       "| no  | 123 |\n",
       "| yes | 104 |\n",
       "\n"
      ],
      "text/plain": [
       "  presence count\n",
       "1 no       123  \n",
       "2 yes      104  "
      ]
     },
     "metadata": {},
     "output_type": "display_data"
    },
    {
     "data": {
      "text/html": [
       "<table class=\"dataframe\">\n",
       "<caption>A data.frame: 1 × 5</caption>\n",
       "<thead>\n",
       "\t<tr><th scope=col>age</th><th scope=col>rest_bp</th><th scope=col>cholesterol</th><th scope=col>max_hr</th><th scope=col>st_depr</th></tr>\n",
       "\t<tr><th scope=col>&lt;dbl&gt;</th><th scope=col>&lt;dbl&gt;</th><th scope=col>&lt;dbl&gt;</th><th scope=col>&lt;dbl&gt;</th><th scope=col>&lt;dbl&gt;</th></tr>\n",
       "</thead>\n",
       "<tbody>\n",
       "\t<tr><td>54.43612</td><td>131.6256</td><td>248.7753</td><td>149.4758</td><td>1.028634</td></tr>\n",
       "</tbody>\n",
       "</table>\n"
      ],
      "text/latex": [
       "A data.frame: 1 × 5\n",
       "\\begin{tabular}{lllll}\n",
       " age & rest\\_bp & cholesterol & max\\_hr & st\\_depr\\\\\n",
       " <dbl> & <dbl> & <dbl> & <dbl> & <dbl>\\\\\n",
       "\\hline\n",
       "\t 54.43612 & 131.6256 & 248.7753 & 149.4758 & 1.028634\\\\\n",
       "\\end{tabular}\n"
      ],
      "text/markdown": [
       "\n",
       "A data.frame: 1 × 5\n",
       "\n",
       "| age &lt;dbl&gt; | rest_bp &lt;dbl&gt; | cholesterol &lt;dbl&gt; | max_hr &lt;dbl&gt; | st_depr &lt;dbl&gt; |\n",
       "|---|---|---|---|---|\n",
       "| 54.43612 | 131.6256 | 248.7753 | 149.4758 | 1.028634 |\n",
       "\n"
      ],
      "text/plain": [
       "  age      rest_bp  cholesterol max_hr   st_depr \n",
       "1 54.43612 131.6256 248.7753    149.4758 1.028634"
      ]
     },
     "metadata": {},
     "output_type": "display_data"
    }
   ],
   "source": [
    "## Summarizing the training data (number of observations in each class, means of the predictor variables)\n",
    "heart_train_summary <- heart_train |>\n",
    "    group_by(presence) |>\n",
    "    summarize(count = n())\n",
    "heart_train_summary\n",
    "\n",
    "heart_train_predictors_mean <- heart_train |>\n",
    "    select(-presence) |>\n",
    "    colMeans()\n",
    "as.data.frame.list(heart_train_predictors_mean)"
   ]
  },
  {
   "cell_type": "code",
   "execution_count": 5,
   "id": "312b8ab5-17f4-432a-9782-e670eafbd774",
   "metadata": {},
   "outputs": [
    {
     "data": {
      "image/png": "[encoded data removed]",
      "text/plain": [
       "plot without title"
      ]
     },
     "metadata": {
      "image/png": {
       "height": 420,
       "width": 420
      }
     },
     "output_type": "display_data"
    }
   ],
   "source": [
    "## Visualizing the training data (histogram distributions of each predictor column)\n",
    "heart_train_long <- heart_train |>\n",
    "    select(-presence) |>\n",
    "    pivot_longer(cols = everything(), names_to = \"predictor\", values_to = \"value\")\n",
    "\n",
    "heart_train_predictor_plot <- heart_train_long |>\n",
    "    ggplot(aes(value)) + \n",
    "        geom_histogram(bins = 10) + \n",
    "        facet_wrap(~predictor, scales = 'free_x')\n",
    "heart_train_predictor_plot"
   ]
  },
  {
   "cell_type": "code",
   "execution_count": 6,
   "id": "ad635bbf-acbc-46d8-a438-150c5a952181",
   "metadata": {},
   "outputs": [
    {
     "data": {
      "text/html": [
       "<table class=\"dataframe\">\n",
       "<caption>A tibble: 303 × 6</caption>\n",
       "<thead>\n",
       "\t<tr><th scope=col>age</th><th scope=col>rest_bp</th><th scope=col>cholesterol</th><th scope=col>max_hr</th><th scope=col>st_depr</th><th scope=col>presence</th></tr>\n",
       "\t<tr><th scope=col>&lt;dbl&gt;</th><th scope=col>&lt;dbl&gt;</th><th scope=col>&lt;dbl&gt;</th><th scope=col>&lt;dbl&gt;</th><th scope=col>&lt;dbl&gt;</th><th scope=col>&lt;fct&gt;</th></tr>\n",
       "</thead>\n",
       "<tbody>\n",
       "\t<tr><td>0.9471596</td><td> 0.7562740</td><td>-0.2644628</td><td> 0.01716893</td><td>1.0855423</td><td>no </td></tr>\n",
       "\t<tr><td>1.3897030</td><td> 1.6085589</td><td> 0.7591593</td><td>-1.81889638</td><td>0.3965257</td><td>yes</td></tr>\n",
       "\t<tr><td>1.3897030</td><td>-0.6642009</td><td>-0.3417173</td><td>-0.90086373</td><td>1.3439235</td><td>yes</td></tr>\n",
       "\t<tr><td>⋮</td><td>⋮</td><td>⋮</td><td>⋮</td><td>⋮</td><td>⋮</td></tr>\n",
       "\t<tr><td> 0.2833446</td><td>-0.09601098</td><td>-2.2344526</td><td>-1.512885</td><td> 0.1381444</td><td>yes</td></tr>\n",
       "\t<tr><td> 0.2833446</td><td>-0.09601098</td><td>-0.2065219</td><td> 1.066349</td><td>-0.8953805</td><td>yes</td></tr>\n",
       "\t<tr><td>-1.8187363</td><td> 0.35854099</td><td>-1.3846531</td><td> 1.022633</td><td>-0.8953805</td><td>no </td></tr>\n",
       "</tbody>\n",
       "</table>\n"
      ],
      "text/latex": [
       "A tibble: 303 × 6\n",
       "\\begin{tabular}{llllll}\n",
       " age & rest\\_bp & cholesterol & max\\_hr & st\\_depr & presence\\\\\n",
       " <dbl> & <dbl> & <dbl> & <dbl> & <dbl> & <fct>\\\\\n",
       "\\hline\n",
       "\t 0.9471596 &  0.7562740 & -0.2644628 &  0.01716893 & 1.0855423 & no \\\\\n",
       "\t 1.3897030 &  1.6085589 &  0.7591593 & -1.81889638 & 0.3965257 & yes\\\\\n",
       "\t 1.3897030 & -0.6642009 & -0.3417173 & -0.90086373 & 1.3439235 & yes\\\\\n",
       "\t ⋮ & ⋮ & ⋮ & ⋮ & ⋮ & ⋮\\\\\n",
       "\t  0.2833446 & -0.09601098 & -2.2344526 & -1.512885 &  0.1381444 & yes\\\\\n",
       "\t  0.2833446 & -0.09601098 & -0.2065219 &  1.066349 & -0.8953805 & yes\\\\\n",
       "\t -1.8187363 &  0.35854099 & -1.3846531 &  1.022633 & -0.8953805 & no \\\\\n",
       "\\end{tabular}\n"
      ],
      "text/markdown": [
       "\n",
       "A tibble: 303 × 6\n",
       "\n",
       "| age &lt;dbl&gt; | rest_bp &lt;dbl&gt; | cholesterol &lt;dbl&gt; | max_hr &lt;dbl&gt; | st_depr &lt;dbl&gt; | presence &lt;fct&gt; |\n",
       "|---|---|---|---|---|---|\n",
       "| 0.9471596 |  0.7562740 | -0.2644628 |  0.01716893 | 1.0855423 | no  |\n",
       "| 1.3897030 |  1.6085589 |  0.7591593 | -1.81889638 | 0.3965257 | yes |\n",
       "| 1.3897030 | -0.6642009 | -0.3417173 | -0.90086373 | 1.3439235 | yes |\n",
       "| ⋮ | ⋮ | ⋮ | ⋮ | ⋮ | ⋮ |\n",
       "|  0.2833446 | -0.09601098 | -2.2344526 | -1.512885 |  0.1381444 | yes |\n",
       "|  0.2833446 | -0.09601098 | -0.2065219 |  1.066349 | -0.8953805 | yes |\n",
       "| -1.8187363 |  0.35854099 | -1.3846531 |  1.022633 | -0.8953805 | no  |\n",
       "\n"
      ],
      "text/plain": [
       "    age        rest_bp     cholesterol max_hr      st_depr    presence\n",
       "1   0.9471596   0.7562740  -0.2644628   0.01716893 1.0855423  no      \n",
       "2   1.3897030   1.6085589   0.7591593  -1.81889638 0.3965257  yes     \n",
       "3   1.3897030  -0.6642009  -0.3417173  -0.90086373 1.3439235  yes     \n",
       "⋮   ⋮          ⋮           ⋮           ⋮           ⋮          ⋮       \n",
       "301  0.2833446 -0.09601098 -2.2344526  -1.512885    0.1381444 yes     \n",
       "302  0.2833446 -0.09601098 -0.2065219   1.066349   -0.8953805 yes     \n",
       "303 -1.8187363  0.35854099 -1.3846531   1.022633   -0.8953805 no      "
      ]
     },
     "metadata": {},
     "output_type": "display_data"
    }
   ],
   "source": [
    "## Scaling the data (starting here everything is actually beyond the proposal)\n",
    "heart_data_recipe <- recipe(presence ~ age + rest_bp + cholesterol + max_hr + st_depr, data = heart_data) |>\n",
    "    step_scale(all_predictors()) |>\n",
    "    step_center(all_predictors())\n",
    "\n",
    "heart_data_scaled <- heart_data_recipe |>\n",
    "    prep() |>\n",
    "    bake(heart_data)\n",
    "heart_data_scaled"
   ]
  },
  {
   "cell_type": "code",
   "execution_count": 7,
   "id": "2c9c8929-f79a-4cc4-9d25-84b68107b1e0",
   "metadata": {},
   "outputs": [
    {
     "data": {
      "image/png": "[encoded data removed]",
      "text/plain": [
       "plot without title"
      ]
     },
     "metadata": {
      "image/png": {
       "height": 420,
       "width": 420
      }
     },
     "output_type": "display_data"
    }
   ],
   "source": [
    "## Finding the optimal k\n",
    "knn_recipe <- recipe(presence ~ age + rest_bp + cholesterol + max_hr + st_depr, data = heart_train)\n",
    "\n",
    "heart_train <- knn_recipe |>\n",
    "    prep() |>\n",
    "    bake(heart_train)\n",
    "\n",
    "knn_vfold <- vfold_cv(heart_train, v = 5, strata = presence)\n",
    "\n",
    "knn_tune <- nearest_neighbor(weight_func = \"rectangular\", neighbors = tune()) |>\n",
    "    set_engine(\"kknn\") |>\n",
    "    set_mode(\"classification\")\n",
    "\n",
    "k <- tibble(neighbors = seq(2, 102, 5))\n",
    "\n",
    "knn_results <- workflow() |>\n",
    "    add_recipe(knn_recipe) |>\n",
    "    add_model(knn_tune) |>\n",
    "    tune_grid(resamples = knn_vfold, grid = k) |>\n",
    "    collect_metrics()\n",
    "\n",
    "accuracies <- knn_results |>\n",
    "    filter(.metric == \"accuracy\")\n",
    "\n",
    "cross_val_plot <- ggplot(accuracies, aes(x = neighbors, y = mean)) +\n",
    "    geom_point() +\n",
    "    geom_line() +\n",
    "    ggtitle(\"Neighbours (k) vs Accuracy of KNN Model\") +\n",
    "    labs(x = \"Number of Neighbors\", y = \"Accuracy Estimate\")\n",
    "\n",
    "cross_val_plot"
   ]
  },
  {
   "cell_type": "code",
   "execution_count": 8,
   "id": "4526e3ea-2797-449d-b4db-c78b1bd71fcb",
   "metadata": {},
   "outputs": [
    {
     "data": {
      "text/plain": [
       "          Truth\n",
       "Prediction no yes\n",
       "       no  35  13\n",
       "       yes  6  22"
      ]
     },
     "metadata": {},
     "output_type": "display_data"
    }
   ],
   "source": [
    "## Testing the model\n",
    "knn_spec <- nearest_neighbor(weight = \"rectangular\", neighbor = 37) |>\n",
    "    set_engine(\"kknn\") |>\n",
    "    set_mode(\"classification\")\n",
    "\n",
    "knn_fit <- workflow() |>\n",
    "    add_recipe(knn_recipe) |>\n",
    "    add_model(knn_spec) |>\n",
    "    fit(data = heart_train)\n",
    "\n",
    "knn_predictions <- predict(knn_fit, heart_test) |>\n",
    "    bind_cols(heart_test)\n",
    "\n",
    "knn_metrics <- knn_predictions |>\n",
    "    metrics(truth = presence, estimate = .pred_class)\n",
    "\n",
    "knn_conf_mat <- knn_predictions |>\n",
    "    conf_mat(truth = presence, estimate = .pred_class)\n",
    "\n",
    "knn_conf_mat"
   ]
  },
  {
   "cell_type": "markdown",
   "id": "c17e03d9-9e95-4f3c-a26c-57f90186ed8b",
   "metadata": {},
   "source": [
    "## Methods"
   ]
  },
  {
   "cell_type": "markdown",
   "id": "1e5fe00c-5175-4df6-ae4a-9a019cde97d3",
   "metadata": {},
   "source": [
    "(Ada, Kiara)\n",
    "For our data analysis, we will use tidymodel’s K-nearest neighbours to classify a new patient as either having heart disease or not. The data set has designated numbers 0 to 4 to represent the various classes of the heart disease diagnosis, with 0 indicating no heart disease and 4 indicating heart disease. A value of 0 suggests the absence of significant heart disease while a value of 1 suggests the presence of heart disease.\n",
    "\n",
    "We plan on following the main data analysis workflow steps when designing a K-nearest neighbours model to ensure efficiency and clarity. After tidying the data, filtering out the unneeded columns, and scaling and centering the data, we will split the data into a training set and a testing set and use the training set for cross validation. After analyzing the accuracies of various K values using a graph, we will choose the most reliable K value for our K-nearest neighbours model specification, recipe, and workflow.\n",
    "\n",
    "The raw data contains thirteen columns that have the potential to act as predictors for the diagnosis of heart disease. In our data analysis, we will only use five of these: resting blood pressure in mm Hg (trestbps), serum cholesterol in mg/dl (chol), the number of cigarettes smoked per day (cigs), family history of coronary artery disease (famhist), and whether or not the patient’s fasting blood sugar is greater than 120 mg/dl (fbs).\n",
    "\n",
    "We will visualize the accuracy of each K value by creating a line plot depicting each K value and their respective accuracy. The plot of accuracy vs. number of neighbours will be used to choose the best K value. Additionally, we will visualize the final results by graphing all of the testing data on a scatter plot with each point coloured based on their predicted classification using our best classification model (one colour corresponds to each number from 0 to 4)."
   ]
  },
  {
   "cell_type": "markdown",
   "id": "9e24a91d-c742-4862-a36a-e7600a80d8fc",
   "metadata": {},
   "source": [
    "## Expected outcomes and significance"
   ]
  },
  {
   "cell_type": "markdown",
   "id": "6bef888d-0da8-43a0-9774-28a6d2fdc5b7",
   "metadata": {},
   "source": [
    "(Sethu)\n",
    "- What do you expect to find?\n",
    " \n",
    "  1. whether there any significant differences in the occurrence of heart disease between different age groups or genders\n",
    "  2. Is there a relationship between certain risk factors, such as cholesterol or blood sugar, and the development of heart disease\n",
    "  3. Predicting the likelihood of developing heart disease based on certain clinical and demographic variables\n",
    "  4.  whether there are any common symptoms or indicators of heart disease in the dataset\n",
    "\n",
    "- What impact could such findings have?\n",
    " \n",
    "  1. Improved understanding of risk factors: Identifying significant differences in heart disease occurrence can help healthcare professionals better understand the risk factors associated with heart disease in different populations. This, in turn, can help develop more effective prevention and treatment strategies.\n",
    "  2.  Targeted interventions: If a particular age group or gender is found to be at higher risk for heart disease, targeted interventions can be developed to address the specific needs of that population. This could include tailored public health campaigns, screening programs, or treatment protocols.\n",
    "  3.  Resource allocation: Identifying significant differences in heart disease occurrence can also help with resource allocation within healthcare systems. For example, if a particular age group or gender is found to be at higher risk, healthcare providers can allocate resources more efficiently to ensure that these populations receive the necessary care.\n",
    "      Overall, identifying significant differences in heart disease occurrence between different age groups or genders can have important implications for public health and healthcare delivery.\n",
    "  4.  Improved prevention strategies: Identifying a significant relationship between specific risk factors and the development of heart disease can help healthcare professionals develop more effective prevention strategies. For example, if high cholesterol is found to be a significant risk factor, healthcare providers may recommend cholesterol-lowering medications or dietary changes to reduce the risk of heart disease.\n",
    "  5.  Earlier diagnosis: If certain risk factors are found to be associated with the development of heart disease, healthcare providers may recommend earlier screening or diagnostic tests for individuals with these risk factors. This can help detect heart disease at an earlier stage, when it may be more treatable.\n",
    "  6.  Personalized treatment: If a significant relationship is found between specific risk factors and the development of heart disease, healthcare providers can tailor treatment plans to address the individual needs of each patient. For example, if high blood sugar is found to be a significant risk factor, healthcare providers may recommend tighter blood sugar control for diabetic patients to reduce the risk of heart disease.\n",
    "  7.  Improved public health: A prediction model can also help inform public health policies and programs by identifying high-risk populations and guiding the development of targeted prevention strategies.\n",
    "  8.  Early detection: Identifying common symptoms or indicators of heart disease can help healthcare providers detect the disease at an earlier stage. This can lead to earlier interventions and treatments, potentially preventing or delaying the onset of heart disease.\n",
    "\n",
    "- What future questions could this lead to?\n",
    "  1. Can more study help pinpoint additional heart disease risk factors, particularly those that are unique to particular populations or demographics?\n",
    "  2.  For certain age groups or genders at greater risk of heart disease, are there particular interventions or treatment modalities that are more successful?\n",
    "  3. How can healthcare professionals better inform the people about typical heart disease symptoms or warning signs to increase early detection?\n",
    "  4. Are there any methods to enhance heart disease diagnostic and screening procedures to ensure earlier recognition and treatment?"
   ]
  },
  {
   "cell_type": "code",
   "execution_count": null,
   "id": "1ab0e179-dd54-4183-8b8d-f92502959929",
   "metadata": {},
   "outputs": [],
   "source": []
  }
 ],
 "metadata": {
  "kernelspec": {
   "display_name": "R",
   "language": "R",
   "name": "ir"
  },
  "language_info": {
   "codemirror_mode": "r",
   "file_extension": ".r",
   "mimetype": "text/x-r-source",
   "name": "R",
   "pygments_lexer": "r",
   "version": "4.1.3"
  }
 },
 "nbformat": 4,
 "nbformat_minor": 5
}
