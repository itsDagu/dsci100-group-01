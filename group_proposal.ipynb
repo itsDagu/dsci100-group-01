{
 "cells": [
  {
   "cell_type": "markdown",
   "id": "4b66a053-7b56-452d-bb1c-b94f816cc76b",
   "metadata": {},
   "source": [
    "# Classifying Heart Disease in Patients using Multivariate "
   ]
  },
  {
   "cell_type": "markdown",
   "id": "2a6014a4-5b03-44b0-a148-951b52ee4e70",
   "metadata": {},
   "source": [
    "# Introduction\n",
    "\n",
    "#### Research question: Which physiological risk factors are most suitable for accurately classifying heart disease among patients?"
   ]
  },
  {
   "attachments": {},
   "cell_type": "markdown",
   "id": "c09ac6a6-521c-4765-983f-b44255ad3f79",
   "metadata": {},
   "source": [
    "Heart disease, also known as cardiovascular disease (CVD), is a major public health issue affecting millions of people worldwide. According to the Centers for Disease Control and Prevention (CDC), CVD is the leading cause of death globally, accounting for approximately 17.9 million deaths each year [3]. It includes a range of conditions that affect the heart and blood vessels, including coronary artery disease, heart failure, and stroke.\n",
    "\n",
    "The prevalence of heart disease is on the rise, with several risk factors contributing to its development. These risk factors include high blood pressure, high cholesterol, obesity, physical inactivity, and smoking. These risk factors are increasingly common in the population, making heart disease a significant public health challenge.\n",
    "\n",
    "This dataset from the UCI Machine Learning Repository contains 14 attributes (which have been subsetted from 76 attributes originally) collected from 303 patients by medical center in Cleveland. Similar to the published studies on this dataset, our project will select a subset of attributes from the given 14 to help in the classification of heart disease in a patient. The attributes we will consider include age, rest_bp (resting blood pressure), cholestrol, max_hr (max heart rate), and st_depr (ST depression). Since maximum heart rate and ST depression are two attributes that have been found to be especially useful in predicting heart disease in previous studies [1, 2], we predict that these two attributes will contribute the greatest in classifying presence of heart disease. We will use these attributes to train the program to be able to predict the presence of heart disease in new patients. \n",
    "\n",
    "![image.png](https://getmegiddy.com/sites/default/files/2021-02/Giddy_3d_P_Hero.gif)"
   ]
  },
  {
   "attachments": {},
   "cell_type": "markdown",
   "id": "fe9a5d33-3db8-45b4-864f-b6b3f0b63976",
   "metadata": {},
   "source": [
    "# Methods and Results\n",
    "For our data analysis, we will use tidymodel’s K-nearest neighbours to classify a patient as either having heart disease or not (yes for heart disease present, no for no heart disease present).\n",
    "\n",
    "We plan on following the main data analysis workflow steps when designing a K-nearest neighbours model to ensure efficiency and clarity. After tidying the data, filtering out the unneeded columns, and scaling and centering the data, we will split the data into a training set and a testing set and use the training set for cross validation. Then, after analyzing the accuracies of various K values using a graph, we will choose the most optimal K value for our K-nearest neighbours model specification, recipe, and workflow.\n",
    "\n",
    "The raw data contains thirteen columns that have the potential to act as predictors for the diagnosis of heart disease. In our data analysis, we will begin by only using five of these: age, rest_bp (resting blood pressure), cholestrol, max_hr (max heart rate), and st_depr (ST depression) and use forward selection to see which of these five attributes are most useful in predicting heart disease. We will then use these most relevant attributes to train the program to be able to predict the presence of heart disease in patients.\n",
    "\n",
    "We will visualize the accuracy of each K value by creating a line plot depicting each K value and their respective accuracy. The plot of accuracy vs. number of neighbours will be used to choose the best K value. Additionally, we will visualize the final results by graphing all of the testing data on a scatter plot with each point coloured based on their predicted classification using our best classification model (one colour for yes, one for no)."
   ]
  },
  {
   "cell_type": "markdown",
   "id": "e2ff3cb7-eed8-4869-8cc4-b380d5fcaef5",
   "metadata": {},
   "source": [
    "### Loding the Libraries"
   ]
  },
  {
   "attachments": {},
   "cell_type": "markdown",
   "id": "6d17313a",
   "metadata": {},
   "source": [
    "> We will be loading several libraries: tidyverse, tidymodels, and repr. We will also be configuring some options for the plots here."
   ]
  },
  {
   "cell_type": "code",
   "execution_count": 54,
   "id": "72a96ffc-1f96-4dbd-bf23-36e533f3719d",
   "metadata": {
    "tags": [],
    "vscode": {
     "languageId": "r"
    }
   },
   "outputs": [],
   "source": [
    "### Run this cell before continuing. \n",
    "library(tidyverse)\n",
    "library(tidymodels)\n",
    "library(repr)\n",
    "options(repr.matrix.max.rows = 6)"
   ]
  },
  {
   "attachments": {},
   "cell_type": "markdown",
   "id": "af5c72e7-e8a4-4be6-9ddd-2d2b7e62fdf6",
   "metadata": {},
   "source": [
    "### Wrangling and cleaning the data\n",
    "> Now we load the heart data from the URL, provide column names, and change the appropriate variables from `<dbl>` to `<fct>` using `as.factor`. Finally, we will print and check the data to make sure it is tidy."
   ]
  },
  {
   "cell_type": "code",
   "execution_count": 55,
   "id": "3c16a3ce-19ca-4800-ab2b-eee42a924e27",
   "metadata": {
    "vscode": {
     "languageId": "r"
    }
   },
   "outputs": [
    {
     "name": "stderr",
     "output_type": "stream",
     "text": [
      "\u001b[1mRows: \u001b[22m\u001b[34m303\u001b[39m \u001b[1mColumns: \u001b[22m\u001b[34m14\u001b[39m\n",
      "\u001b[36m--\u001b[39m \u001b[1mColumn specification\u001b[22m \u001b[36m--------------------------------------------------------\u001b[39m\n",
      "\u001b[1mDelimiter:\u001b[22m \",\"\n",
      "\u001b[31mchr\u001b[39m  (2): major_vessel_num, thal\n",
      "\u001b[32mdbl\u001b[39m (12): age, sex, chest_pain_type, rest_bp, cholesterol, fast_blood_sugar,...\n",
      "\n",
      "\u001b[36mi\u001b[39m Use `spec()` to retrieve the full column specification for this data.\n",
      "\u001b[36mi\u001b[39m Specify the column types or set `show_col_types = FALSE` to quiet this message.\n",
      "Warning message:\n",
      "\"\u001b[1m\u001b[22mThere was 1 warning in `mutate()`.\n",
      "\u001b[1m\u001b[22m\u001b[36mi\u001b[39m In argument: `thal = as.factor(as.integer(thal))`.\n",
      "Caused by warning in `is.factor()`:\n",
      "\u001b[33m!\u001b[39m NAs introduced by coercion\"\n"
     ]
    },
    {
     "data": {
      "text/html": [
       "<table class=\"dataframe\">\n",
       "<caption>A tibble: 303 x 15</caption>\n",
       "<thead>\n",
       "\t<tr><th scope=col>age</th><th scope=col>sex</th><th scope=col>chest_pain_type</th><th scope=col>rest_bp</th><th scope=col>cholesterol</th><th scope=col>fast_blood_sugar</th><th scope=col>rest_ecg</th><th scope=col>max_hr</th><th scope=col>ex_angina</th><th scope=col>st_depr</th><th scope=col>slope_peak</th><th scope=col>major_vessel_num</th><th scope=col>thal</th><th scope=col>pres_val</th><th scope=col>presence</th></tr>\n",
       "\t<tr><th scope=col>&lt;dbl&gt;</th><th scope=col>&lt;fct&gt;</th><th scope=col>&lt;fct&gt;</th><th scope=col>&lt;dbl&gt;</th><th scope=col>&lt;dbl&gt;</th><th scope=col>&lt;fct&gt;</th><th scope=col>&lt;fct&gt;</th><th scope=col>&lt;dbl&gt;</th><th scope=col>&lt;fct&gt;</th><th scope=col>&lt;dbl&gt;</th><th scope=col>&lt;fct&gt;</th><th scope=col>&lt;fct&gt;</th><th scope=col>&lt;fct&gt;</th><th scope=col>&lt;fct&gt;</th><th scope=col>&lt;fct&gt;</th></tr>\n",
       "</thead>\n",
       "<tbody>\n",
       "\t<tr><td>63</td><td>1</td><td>1</td><td>145</td><td>233</td><td>1</td><td>2</td><td>150</td><td>0</td><td>2.3</td><td>3</td><td>0.0</td><td>6</td><td>0</td><td>no </td></tr>\n",
       "\t<tr><td>67</td><td>1</td><td>4</td><td>160</td><td>286</td><td>0</td><td>2</td><td>108</td><td>1</td><td>1.5</td><td>2</td><td>3.0</td><td>3</td><td>2</td><td>yes</td></tr>\n",
       "\t<tr><td>67</td><td>1</td><td>4</td><td>120</td><td>229</td><td>0</td><td>2</td><td>129</td><td>1</td><td>2.6</td><td>2</td><td>2.0</td><td>7</td><td>1</td><td>yes</td></tr>\n",
       "\t<tr><td>...</td><td>...</td><td>...</td><td>...</td><td>...</td><td>...</td><td>...</td><td>...</td><td>...</td><td>...</td><td>...</td><td>...</td><td>...</td><td>...</td><td>...</td></tr>\n",
       "\t<tr><td>57</td><td>1</td><td>4</td><td>130</td><td>131</td><td>0</td><td>0</td><td>115</td><td>1</td><td>1.2</td><td>2</td><td>1.0</td><td>7</td><td>3</td><td>yes</td></tr>\n",
       "\t<tr><td>57</td><td>0</td><td>2</td><td>130</td><td>236</td><td>0</td><td>2</td><td>174</td><td>0</td><td>0.0</td><td>2</td><td>1.0</td><td>3</td><td>1</td><td>yes</td></tr>\n",
       "\t<tr><td>38</td><td>1</td><td>3</td><td>138</td><td>175</td><td>0</td><td>0</td><td>173</td><td>0</td><td>0.0</td><td>1</td><td>?  </td><td>3</td><td>0</td><td>no </td></tr>\n",
       "</tbody>\n",
       "</table>\n"
      ],
      "text/latex": [
       "A tibble: 303 x 15\n",
       "\\begin{tabular}{lllllllllllllll}\n",
       " age & sex & chest\\_pain\\_type & rest\\_bp & cholesterol & fast\\_blood\\_sugar & rest\\_ecg & max\\_hr & ex\\_angina & st\\_depr & slope\\_peak & major\\_vessel\\_num & thal & pres\\_val & presence\\\\\n",
       " <dbl> & <fct> & <fct> & <dbl> & <dbl> & <fct> & <fct> & <dbl> & <fct> & <dbl> & <fct> & <fct> & <fct> & <fct> & <fct>\\\\\n",
       "\\hline\n",
       "\t 63 & 1 & 1 & 145 & 233 & 1 & 2 & 150 & 0 & 2.3 & 3 & 0.0 & 6 & 0 & no \\\\\n",
       "\t 67 & 1 & 4 & 160 & 286 & 0 & 2 & 108 & 1 & 1.5 & 2 & 3.0 & 3 & 2 & yes\\\\\n",
       "\t 67 & 1 & 4 & 120 & 229 & 0 & 2 & 129 & 1 & 2.6 & 2 & 2.0 & 7 & 1 & yes\\\\\n",
       "\t ... & ... & ... & ... & ... & ... & ... & ... & ... & ... & ... & ... & ... & ... & ...\\\\\n",
       "\t 57 & 1 & 4 & 130 & 131 & 0 & 0 & 115 & 1 & 1.2 & 2 & 1.0 & 7 & 3 & yes\\\\\n",
       "\t 57 & 0 & 2 & 130 & 236 & 0 & 2 & 174 & 0 & 0.0 & 2 & 1.0 & 3 & 1 & yes\\\\\n",
       "\t 38 & 1 & 3 & 138 & 175 & 0 & 0 & 173 & 0 & 0.0 & 1 & ?   & 3 & 0 & no \\\\\n",
       "\\end{tabular}\n"
      ],
      "text/markdown": [
       "\n",
       "A tibble: 303 x 15\n",
       "\n",
       "| age &lt;dbl&gt; | sex &lt;fct&gt; | chest_pain_type &lt;fct&gt; | rest_bp &lt;dbl&gt; | cholesterol &lt;dbl&gt; | fast_blood_sugar &lt;fct&gt; | rest_ecg &lt;fct&gt; | max_hr &lt;dbl&gt; | ex_angina &lt;fct&gt; | st_depr &lt;dbl&gt; | slope_peak &lt;fct&gt; | major_vessel_num &lt;fct&gt; | thal &lt;fct&gt; | pres_val &lt;fct&gt; | presence &lt;fct&gt; |\n",
       "|---|---|---|---|---|---|---|---|---|---|---|---|---|---|---|\n",
       "| 63 | 1 | 1 | 145 | 233 | 1 | 2 | 150 | 0 | 2.3 | 3 | 0.0 | 6 | 0 | no  |\n",
       "| 67 | 1 | 4 | 160 | 286 | 0 | 2 | 108 | 1 | 1.5 | 2 | 3.0 | 3 | 2 | yes |\n",
       "| 67 | 1 | 4 | 120 | 229 | 0 | 2 | 129 | 1 | 2.6 | 2 | 2.0 | 7 | 1 | yes |\n",
       "| ... | ... | ... | ... | ... | ... | ... | ... | ... | ... | ... | ... | ... | ... | ... |\n",
       "| 57 | 1 | 4 | 130 | 131 | 0 | 0 | 115 | 1 | 1.2 | 2 | 1.0 | 7 | 3 | yes |\n",
       "| 57 | 0 | 2 | 130 | 236 | 0 | 2 | 174 | 0 | 0.0 | 2 | 1.0 | 3 | 1 | yes |\n",
       "| 38 | 1 | 3 | 138 | 175 | 0 | 0 | 173 | 0 | 0.0 | 1 | ?   | 3 | 0 | no  |\n",
       "\n"
      ],
      "text/plain": [
       "    age sex chest_pain_type rest_bp cholesterol fast_blood_sugar rest_ecg\n",
       "1   63  1   1               145     233         1                2       \n",
       "2   67  1   4               160     286         0                2       \n",
       "3   67  1   4               120     229         0                2       \n",
       "... ... ... ...             ...     ...         ...              ...     \n",
       "301 57  1   4               130     131         0                0       \n",
       "302 57  0   2               130     236         0                2       \n",
       "303 38  1   3               138     175         0                0       \n",
       "    max_hr ex_angina st_depr slope_peak major_vessel_num thal pres_val presence\n",
       "1   150    0         2.3     3          0.0              6    0        no      \n",
       "2   108    1         1.5     2          3.0              3    2        yes     \n",
       "3   129    1         2.6     2          2.0              7    1        yes     \n",
       "... ...    ...       ...     ...        ...              ...  ...      ...     \n",
       "301 115    1         1.2     2          1.0              7    3        yes     \n",
       "302 174    0         0.0     2          1.0              3    1        yes     \n",
       "303 173    0         0.0     1          ?                3    0        no      "
      ]
     },
     "metadata": {},
     "output_type": "display_data"
    }
   ],
   "source": [
    "## Wrangling and cleaning the data\n",
    "heart_data_url <- \"https://archive.ics.uci.edu/ml/machine-learning-databases/heart-disease/processed.cleveland.data\"\n",
    "heart_cols <- c(\"age\", \"sex\", \"chest_pain_type\", \"rest_bp\", \"cholesterol\", \"fast_blood_sugar\", \"rest_ecg\", \"max_hr\", \"ex_angina\", \"st_depr\", \"slope_peak\", \"major_vessel_num\", \"thal\", \"pres_val\")\n",
    "heart_data <- read_csv(heart_data_url, col_names = heart_cols) |>\n",
    "    mutate(sex = as.factor(sex),\n",
    "          chest_pain_type = as.factor(chest_pain_type),\n",
    "          fast_blood_sugar = as.factor(fast_blood_sugar),\n",
    "          rest_ecg = as.factor(rest_ecg),\n",
    "          ex_angina = as.factor(ex_angina),\n",
    "          slope_peak = as.factor(slope_peak),\n",
    "          major_vessel_num = as.factor(major_vessel_num),\n",
    "          thal = as.factor(as.integer(thal)),\n",
    "          pres_val = as.factor(pres_val),\n",
    "          presence = as.factor(ifelse(pres_val == 0, \"no\", \"yes\")))\n",
    "heart_data"
   ]
  },
  {
   "cell_type": "markdown",
   "id": "e2368508-3e98-46d3-9457-546aaadf2d8e",
   "metadata": {},
   "source": [
    "*Table 1: Wrangled and cleaned heart data*"
   ]
  },
  {
   "attachments": {},
   "cell_type": "markdown",
   "id": "e27406bc-edae-41bc-ba9b-103528587510",
   "metadata": {},
   "source": [
    "### Splitting the Data\n",
    "> We split the data into training and testing sets using the `initial_split()` function. We chose to allocate 75% of the data set to training and the other 25% of the data set to testing, ensuring that the data sets are balanced in terms of the number of patients with and without heart disease."
   ]
  },
  {
   "cell_type": "code",
   "execution_count": 56,
   "id": "54b334a2-0eec-4a5c-b64c-6a1849a90162",
   "metadata": {
    "vscode": {
     "languageId": "r"
    }
   },
   "outputs": [],
   "source": [
    "set.seed(1)\n",
    "heart_split <- heart_data |>\n",
    "    select(age, rest_bp, cholesterol, max_hr, st_depr, presence) |>\n",
    "    initial_split(prop = 0.75, strata = presence)\n",
    "heart_train <- training(heart_split)\n",
    "heart_test <- testing(heart_split)"
   ]
  },
  {
   "attachments": {},
   "cell_type": "markdown",
   "id": "72375d91-228e-4320-80f4-c9e21cf281ee",
   "metadata": {},
   "source": [
    "We then summarize the training data by counting the number observations of \"yes\" presence and \"no\" presence."
   ]
  },
  {
   "cell_type": "markdown",
   "id": "25cde954-3bb9-47f9-baeb-35da8249e9b9",
   "metadata": {},
   "source": [
    "### Summarizing the Trainina Data"
   ]
  },
  {
   "cell_type": "code",
   "execution_count": 57,
   "id": "7012b97b-06a7-41db-a075-9eb63b5cf1a0",
   "metadata": {
    "vscode": {
     "languageId": "r"
    }
   },
   "outputs": [
    {
     "data": {
      "text/html": [
       "<table class=\"dataframe\">\n",
       "<caption>A tibble: 2 x 2</caption>\n",
       "<thead>\n",
       "\t<tr><th scope=col>presence</th><th scope=col>count</th></tr>\n",
       "\t<tr><th scope=col>&lt;fct&gt;</th><th scope=col>&lt;int&gt;</th></tr>\n",
       "</thead>\n",
       "<tbody>\n",
       "\t<tr><td>no </td><td>123</td></tr>\n",
       "\t<tr><td>yes</td><td>104</td></tr>\n",
       "</tbody>\n",
       "</table>\n"
      ],
      "text/latex": [
       "A tibble: 2 x 2\n",
       "\\begin{tabular}{ll}\n",
       " presence & count\\\\\n",
       " <fct> & <int>\\\\\n",
       "\\hline\n",
       "\t no  & 123\\\\\n",
       "\t yes & 104\\\\\n",
       "\\end{tabular}\n"
      ],
      "text/markdown": [
       "\n",
       "A tibble: 2 x 2\n",
       "\n",
       "| presence &lt;fct&gt; | count &lt;int&gt; |\n",
       "|---|---|\n",
       "| no  | 123 |\n",
       "| yes | 104 |\n",
       "\n"
      ],
      "text/plain": [
       "  presence count\n",
       "1 no       123  \n",
       "2 yes      104  "
      ]
     },
     "metadata": {},
     "output_type": "display_data"
    }
   ],
   "source": [
    "## Summarizing the training data (number of observations in each class)\n",
    "heart_train_summary <- heart_train |>\n",
    "    group_by(presence) |>\n",
    "    summarize(count = n())\n",
    "heart_train_summary"
   ]
  },
  {
   "cell_type": "markdown",
   "id": "aa14a994-fe63-4030-bda3-3ef9f60e535f",
   "metadata": {},
   "source": [
    "*Table 2: Summary of number of observations that do and do not contain the presence of heart disease*"
   ]
  },
  {
   "attachments": {},
   "cell_type": "markdown",
   "id": "3a604dba-55bc-4a03-9b37-e85d384638bd",
   "metadata": {},
   "source": [
    "Since we want to get a better understanding of the chosen attributes in our training data, we then calculate the means of each predictor variable using the `colMeans()` function (first for those with heart disease and second for those without)."
   ]
  },
  {
   "cell_type": "code",
   "execution_count": 58,
   "id": "bfc2c5cd-602f-428b-9363-1549f83237ee",
   "metadata": {
    "vscode": {
     "languageId": "r"
    }
   },
   "outputs": [
    {
     "data": {
      "text/html": [
       "<table class=\"dataframe\">\n",
       "<caption>A tibble: 2 x 6</caption>\n",
       "<thead>\n",
       "\t<tr><th scope=col>age</th><th scope=col>rest_bp</th><th scope=col>cholesterol</th><th scope=col>max_hr</th><th scope=col>st_depr</th><th scope=col>presence</th></tr>\n",
       "\t<tr><th scope=col>&lt;dbl&gt;</th><th scope=col>&lt;dbl&gt;</th><th scope=col>&lt;dbl&gt;</th><th scope=col>&lt;dbl&gt;</th><th scope=col>&lt;dbl&gt;</th><th scope=col>&lt;chr&gt;</th></tr>\n",
       "</thead>\n",
       "<tbody>\n",
       "\t<tr><td>57.23077</td><td>135.5096</td><td>250.5673</td><td>138.2308</td><td>1.5442308</td><td>yes</td></tr>\n",
       "\t<tr><td>52.96748</td><td>130.4553</td><td>243.9106</td><td>158.6748</td><td>0.6170732</td><td>no </td></tr>\n",
       "</tbody>\n",
       "</table>\n"
      ],
      "text/latex": [
       "A tibble: 2 x 6\n",
       "\\begin{tabular}{llllll}\n",
       " age & rest\\_bp & cholesterol & max\\_hr & st\\_depr & presence\\\\\n",
       " <dbl> & <dbl> & <dbl> & <dbl> & <dbl> & <chr>\\\\\n",
       "\\hline\n",
       "\t 57.23077 & 135.5096 & 250.5673 & 138.2308 & 1.5442308 & yes\\\\\n",
       "\t 52.96748 & 130.4553 & 243.9106 & 158.6748 & 0.6170732 & no \\\\\n",
       "\\end{tabular}\n"
      ],
      "text/markdown": [
       "\n",
       "A tibble: 2 x 6\n",
       "\n",
       "| age &lt;dbl&gt; | rest_bp &lt;dbl&gt; | cholesterol &lt;dbl&gt; | max_hr &lt;dbl&gt; | st_depr &lt;dbl&gt; | presence &lt;chr&gt; |\n",
       "|---|---|---|---|---|---|\n",
       "| 57.23077 | 135.5096 | 250.5673 | 138.2308 | 1.5442308 | yes |\n",
       "| 52.96748 | 130.4553 | 243.9106 | 158.6748 | 0.6170732 | no  |\n",
       "\n"
      ],
      "text/plain": [
       "  age      rest_bp  cholesterol max_hr   st_depr   presence\n",
       "1 57.23077 135.5096 250.5673    138.2308 1.5442308 yes     \n",
       "2 52.96748 130.4553 243.9106    158.6748 0.6170732 no      "
      ]
     },
     "metadata": {},
     "output_type": "display_data"
    }
   ],
   "source": [
    "## Calculating means of the predictor variables in CVD positive cases\n",
    "heart_train_predictors_mean_pos <- heart_train |>\n",
    "    filter(presence == \"yes\") |>\n",
    "    select(-presence) |>\n",
    "    colMeans()\n",
    "\n",
    "heart_train_predictors_mean_neg <- heart_train |>\n",
    "    filter(presence == \"no\") |>\n",
    "    select(-presence) |>\n",
    "    colMeans()\n",
    "\n",
    "heart_train_predictors_mean <- rbind(heart_train_predictors_mean_pos, heart_train_predictors_mean_neg) |>\n",
    "    as_tibble() |>\n",
    "    mutate(presence = c(\"yes\", \"no\"))\n",
    "heart_train_predictors_mean"
   ]
  },
  {
   "attachments": {},
   "cell_type": "markdown",
   "id": "d40434b4",
   "metadata": {},
   "source": [
    "*Table 3a: Means of each predictors in different CVD cases*"
   ]
  },
  {
   "attachments": {},
   "cell_type": "markdown",
   "id": "4ed03744",
   "metadata": {},
   "source": [
    "A brief summary of the means shows that patients with CVD generally have a higher resting blood pressure, higher cholesterol, lower maximum heart rate, and higher ST depression than those without CVD. This is consistent with previous studies that have found that patients with CVD tend to have higher resting blood pressure, higher cholesterol, and lower maximum heart rate [1, 2]."
   ]
  },
  {
   "attachments": {},
   "cell_type": "markdown",
   "id": "7cdcfd6a-5834-4614-9133-ad3ae6ae01d7",
   "metadata": {},
   "source": [
    "### Visualizing the Training Data\n",
    "> Next, we visualize the training data by creating histogram distributions of each predictor column."
   ]
  },
  {
   "cell_type": "code",
   "execution_count": 59,
   "id": "312b8ab5-17f4-432a-9782-e670eafbd774",
   "metadata": {
    "vscode": {
     "languageId": "r"
    }
   },
   "outputs": [
    {
     "data": {
      "image/png": "[encoded data removed]",
      "text/plain": [
       "plot without title"
      ]
     },
     "metadata": {
      "image/png": {
       "height": 420,
       "width": 420
      }
     },
     "output_type": "display_data"
    }
   ],
   "source": [
    "heart_train_long <- heart_train |>\n",
    "pivot_longer(cols = -presence, names_to = \"predictor\", values_to = \"value\")\n",
    "\n",
    "heart_train_predictor_plot <- heart_train_long |>\n",
    "ggplot(aes(value, fill = presence)) +\n",
    "geom_histogram(bins = 10, alpha = 0.5, position = \"identity\") +\n",
    "facet_wrap(~predictor, scales = 'free_x') +\n",
    "ggtitle(\"Histogram Distribution of Predictors\") +\n",
    "labs(y = \"Count\", x = \"Value\", fill = \"Presence\") +\n",
    "scale_fill_manual(values = c(\"blue\", \"red\")) +\n",
    "theme(panel.spacing = unit(1, \"cm\")) +\n",
    "theme(axis.title = element_text(size = 15)) +\n",
    "theme(axis.text = element_text(size = 10)) +\n",
    "theme(plot.title = element_text(size = 20))\n",
    "\n",
    "heart_train_predictor_plot"
   ]
  },
  {
   "attachments": {},
   "cell_type": "markdown",
   "id": "91c36f88-5c2a-47f7-85e6-24f40c0240c7",
   "metadata": {
    "tags": []
   },
   "source": [
    "### Analysis of Histogram\n",
    "A histogram is a type of graph used to represent large amounts of numeric data, making it a suitable choice for this project given the large dataset.\n",
    "\n",
    "Based on the histogram above, we can observe that the distribution of age in patients with CVD is slightly skewed to the right, indicating that the mean age of patients with CVD is slightly higher than the mean age of patients without CVD. This is consistent with previous studies that have found that patients with CVD tend to be older [1, 2]. Furthermore, the distribution of maximum heart rate in patients with CVD is slightly skewed to the left, indicating that the mean maximum heart rate of patients with CVD is slightly lower than the mean maximum heart rate of patients without CVD. We also see that the distribution of the other three predictors (resting blood pressure, cholesterol level, and ST depression measurement) in patients with CVD is fairly consistent with that of patients without CVD."
   ]
  },
  {
   "attachments": {},
   "cell_type": "markdown",
   "id": "6500cf21-eee0-4b1f-90be-2a6a364694c2",
   "metadata": {},
   "source": [
    "We then scale the data so that it is useable for KNN classification."
   ]
  },
  {
   "attachments": {},
   "cell_type": "markdown",
   "id": "eea3b31d-4103-4725-9df5-8817e1c7d28e",
   "metadata": {},
   "source": [
    "### KNN Classification\n",
    "> In this project, we will be using the K-Nearest Neighbours(KNN) algorithm to predict the presence of the heart disease from the Cleveland Heart Disease dataset. We will create a recipe called heart_data_recipe that scale and center the predictors age, rest_bp, cholesterol, max_hr, and st_depr of the heart_data dataset. The resulting scaled and centered dataset is stored as heart_data_scaled."
   ]
  },
  {
   "cell_type": "code",
   "execution_count": 60,
   "id": "1167c74d-1a80-44dc-954e-f4e26eda71bb",
   "metadata": {
    "vscode": {
     "languageId": "r"
    }
   },
   "outputs": [
    {
     "data": {
      "text/html": [
       "<table class=\"dataframe\">\n",
       "<caption>A tibble: 303 x 6</caption>\n",
       "<thead>\n",
       "\t<tr><th scope=col>age</th><th scope=col>rest_bp</th><th scope=col>cholesterol</th><th scope=col>max_hr</th><th scope=col>st_depr</th><th scope=col>presence</th></tr>\n",
       "\t<tr><th scope=col>&lt;dbl&gt;</th><th scope=col>&lt;dbl&gt;</th><th scope=col>&lt;dbl&gt;</th><th scope=col>&lt;dbl&gt;</th><th scope=col>&lt;dbl&gt;</th><th scope=col>&lt;fct&gt;</th></tr>\n",
       "</thead>\n",
       "<tbody>\n",
       "\t<tr><td>0.9471596</td><td> 0.7562740</td><td>-0.2644628</td><td> 0.01716893</td><td>1.0855423</td><td>no </td></tr>\n",
       "\t<tr><td>1.3897030</td><td> 1.6085589</td><td> 0.7591593</td><td>-1.81889638</td><td>0.3965257</td><td>yes</td></tr>\n",
       "\t<tr><td>1.3897030</td><td>-0.6642009</td><td>-0.3417173</td><td>-0.90086373</td><td>1.3439235</td><td>yes</td></tr>\n",
       "\t<tr><td>...</td><td>...</td><td>...</td><td>...</td><td>...</td><td>...</td></tr>\n",
       "\t<tr><td> 0.2833446</td><td>-0.09601098</td><td>-2.2344526</td><td>-1.512885</td><td> 0.1381444</td><td>yes</td></tr>\n",
       "\t<tr><td> 0.2833446</td><td>-0.09601098</td><td>-0.2065219</td><td> 1.066349</td><td>-0.8953805</td><td>yes</td></tr>\n",
       "\t<tr><td>-1.8187363</td><td> 0.35854099</td><td>-1.3846531</td><td> 1.022633</td><td>-0.8953805</td><td>no </td></tr>\n",
       "</tbody>\n",
       "</table>\n"
      ],
      "text/latex": [
       "A tibble: 303 x 6\n",
       "\\begin{tabular}{llllll}\n",
       " age & rest\\_bp & cholesterol & max\\_hr & st\\_depr & presence\\\\\n",
       " <dbl> & <dbl> & <dbl> & <dbl> & <dbl> & <fct>\\\\\n",
       "\\hline\n",
       "\t 0.9471596 &  0.7562740 & -0.2644628 &  0.01716893 & 1.0855423 & no \\\\\n",
       "\t 1.3897030 &  1.6085589 &  0.7591593 & -1.81889638 & 0.3965257 & yes\\\\\n",
       "\t 1.3897030 & -0.6642009 & -0.3417173 & -0.90086373 & 1.3439235 & yes\\\\\n",
       "\t ... & ... & ... & ... & ... & ...\\\\\n",
       "\t  0.2833446 & -0.09601098 & -2.2344526 & -1.512885 &  0.1381444 & yes\\\\\n",
       "\t  0.2833446 & -0.09601098 & -0.2065219 &  1.066349 & -0.8953805 & yes\\\\\n",
       "\t -1.8187363 &  0.35854099 & -1.3846531 &  1.022633 & -0.8953805 & no \\\\\n",
       "\\end{tabular}\n"
      ],
      "text/markdown": [
       "\n",
       "A tibble: 303 x 6\n",
       "\n",
       "| age &lt;dbl&gt; | rest_bp &lt;dbl&gt; | cholesterol &lt;dbl&gt; | max_hr &lt;dbl&gt; | st_depr &lt;dbl&gt; | presence &lt;fct&gt; |\n",
       "|---|---|---|---|---|---|\n",
       "| 0.9471596 |  0.7562740 | -0.2644628 |  0.01716893 | 1.0855423 | no  |\n",
       "| 1.3897030 |  1.6085589 |  0.7591593 | -1.81889638 | 0.3965257 | yes |\n",
       "| 1.3897030 | -0.6642009 | -0.3417173 | -0.90086373 | 1.3439235 | yes |\n",
       "| ... | ... | ... | ... | ... | ... |\n",
       "|  0.2833446 | -0.09601098 | -2.2344526 | -1.512885 |  0.1381444 | yes |\n",
       "|  0.2833446 | -0.09601098 | -0.2065219 |  1.066349 | -0.8953805 | yes |\n",
       "| -1.8187363 |  0.35854099 | -1.3846531 |  1.022633 | -0.8953805 | no  |\n",
       "\n"
      ],
      "text/plain": [
       "    age        rest_bp     cholesterol max_hr      st_depr    presence\n",
       "1   0.9471596   0.7562740  -0.2644628   0.01716893 1.0855423  no      \n",
       "2   1.3897030   1.6085589   0.7591593  -1.81889638 0.3965257  yes     \n",
       "3   1.3897030  -0.6642009  -0.3417173  -0.90086373 1.3439235  yes     \n",
       "... ...        ...         ...         ...         ...        ...     \n",
       "301  0.2833446 -0.09601098 -2.2344526  -1.512885    0.1381444 yes     \n",
       "302  0.2833446 -0.09601098 -0.2065219   1.066349   -0.8953805 yes     \n",
       "303 -1.8187363  0.35854099 -1.3846531   1.022633   -0.8953805 no      "
      ]
     },
     "metadata": {},
     "output_type": "display_data"
    }
   ],
   "source": [
    "heart_data_recipe <- recipe(presence ~ age + rest_bp + cholesterol + max_hr + st_depr, data = heart_data) |>\n",
    "    step_scale(all_predictors()) |>\n",
    "    step_center(all_predictors())\n",
    "\n",
    "heart_data_scaled <- heart_data_recipe |>\n",
    "    prep() |>\n",
    "    bake(heart_data)\n",
    "heart_data_scaled"
   ]
  },
  {
   "cell_type": "markdown",
   "id": "8b4eb361-bd72-44d9-9e7a-ba838b68af7e",
   "metadata": {},
   "source": [
    "*Table 4: Scaled heart data*\n",
    "> The above code is to create a recipe that defines the predictor variables and the outcome variable and also to `step_scale()` and `step_center()` all the predictor variables. Once the recipe is defined `prep()` and `bake()` are applied to the `heart_data`"
   ]
  },
  {
   "cell_type": "markdown",
   "id": "a2d3d6b8-7a1f-4e7d-b159-39924aadcb95",
   "metadata": {},
   "source": [
    "### Finding the Optimal K and Forward Selection"
   ]
  },
  {
   "attachments": {},
   "cell_type": "markdown",
   "id": "3fe44ef6",
   "metadata": {},
   "source": [
    "We want to train and evaluate a k-nearest neighbors (KNN) model to predict the presence of heart disease in patients. We start by looking for the optimal K for our model. The preprocessed data is used to perform a 5-fold cross-validation to optimize the hyperparameters of the KNN model, which include the K number of neighbors to consider and the weight function to use. The accuracy of the model is evaluated for different values of k, and a plot is generated to visualize the relationship between k and accuracy. The optimal k value is then chosen based on the plot."
   ]
  },
  {
   "cell_type": "code",
   "execution_count": 34,
   "id": "2c9c8929-f79a-4cc4-9d25-84b68107b1e0",
   "metadata": {
    "vscode": {
     "languageId": "r"
    }
   },
   "outputs": [
    {
     "data": {
      "image/png": "[encoded data removed]",
      "text/plain": [
       "plot without title"
      ]
     },
     "metadata": {
      "image/png": {
       "height": 420,
       "width": 420
      }
     },
     "output_type": "display_data"
    }
   ],
   "source": [
    "## Finding the optimal k value for the KNN model\n",
    "knn_recipe <- recipe(presence ~ age + rest_bp + cholesterol + max_hr + st_depr, data = heart_train)\n",
    "\n",
    "heart_train <- knn_recipe |>\n",
    "    prep() |>\n",
    "    bake(heart_train)\n",
    "\n",
    "knn_vfold <- vfold_cv(heart_train, v = 5, strata = presence)\n",
    "\n",
    "knn_tune <- nearest_neighbor(weight_func = \"rectangular\", neighbors = tune()) |>\n",
    "    set_engine(\"kknn\") |>\n",
    "    set_mode(\"classification\")\n",
    "\n",
    "k <- tibble(neighbors = seq(2, 52, 5))\n",
    "\n",
    "knn_results <- workflow() |>\n",
    "    add_recipe(knn_recipe) |>\n",
    "    add_model(knn_tune) |>\n",
    "    tune_grid(resamples = knn_vfold, grid = k) |>\n",
    "    collect_metrics()\n",
    "\n",
    "accuracies <- knn_results |>\n",
    "    filter(.metric == \"accuracy\")\n",
    "\n",
    "cross_val_plot <- ggplot(accuracies, aes(x = neighbors, y = mean)) +\n",
    "    geom_point() +\n",
    "    geom_line() +\n",
    "    ggtitle(\"Neighbours (k) vs Accuracy of KNN Model\") +\n",
    "    labs(x = \"Number of Neighbors\", y = \"Accuracy Estimate\") +\n",
    "    theme(axis.title = element_text(size = 15)) +\n",
    "    theme(axis.text = element_text(size = 10)) + \n",
    "    theme(plot.title = element_text(size = 20))\n",
    "\n",
    "cross_val_plot"
   ]
  },
  {
   "cell_type": "markdown",
   "id": "00e0d8e5-ae4b-4647-8bbd-20359888b680",
   "metadata": {},
   "source": [
    "From the above code we are performing an hyperparameter tuning for KNN classification model using `heart_train` dataset.\n",
    "\n",
    "We designed a recipe which defines the predictor variables and an outcome variable for the KNN model and then processed the `heart_train` dataset using this recipe.\n",
    "\n",
    "We also created a 5 fold cross-validation object using `vfold_cv()`  to check the KNN model. And by using `tibble()` we created a dataframe specifying the range of k to test cross-validation, by using `workflow()` we defined the overall workflow of recipe, KNN model, also used `tune_grid()` to tune the hyperparameters over the specified range and resamples and `collect_metrics()` to collect metrics of parameters during cross-validation.\n",
    "\n",
    "Finally, we plotted accuracy versus number of neighbors using ggplot2."
   ]
  },
  {
   "cell_type": "code",
   "execution_count": 35,
   "id": "4526e3ea-2797-449d-b4db-c78b1bd71fcb",
   "metadata": {
    "vscode": {
     "languageId": "r"
    }
   },
   "outputs": [
    {
     "data": {
      "text/plain": [
       "          Truth\n",
       "Prediction no yes\n",
       "       no  35  15\n",
       "       yes  6  20"
      ]
     },
     "metadata": {},
     "output_type": "display_data"
    }
   ],
   "source": [
    "## Testing the model\n",
    "knn_spec <- nearest_neighbor(weight = \"rectangular\", neighbor = 42) |>\n",
    "    set_engine(\"kknn\") |>\n",
    "    set_mode(\"classification\")\n",
    "\n",
    "knn_fit <- workflow() |>\n",
    "    add_recipe(knn_recipe) |>\n",
    "    add_model(knn_spec) |>\n",
    "    fit(data = heart_train)\n",
    "\n",
    "knn_predictions <- predict(knn_fit, heart_test) |>\n",
    "    bind_cols(heart_test)\n",
    "\n",
    "knn_metrics <- knn_predictions |>\n",
    "    metrics(truth = presence, estimate = .pred_class)\n",
    "\n",
    "knn_conf_mat <- knn_predictions |>\n",
    "    conf_mat(truth = presence, estimate = .pred_class)\n",
    "\n",
    "knn_conf_mat"
   ]
  },
  {
   "cell_type": "markdown",
   "id": "25d60208-f7a9-4cc4-8deb-942365f61ea4",
   "metadata": {},
   "source": [
    "*Table 5: Confusion matrix*"
   ]
  },
  {
   "cell_type": "markdown",
   "id": "41ce943d-7908-4e7e-bf15-a178e58463b9",
   "metadata": {},
   "source": [
    "Percent Accuracy of Model:"
   ]
  },
  {
   "cell_type": "code",
   "execution_count": 36,
   "id": "9d4b3fff-7b82-48a1-9f37-3fe4ea5857ca",
   "metadata": {
    "vscode": {
     "languageId": "r"
    }
   },
   "outputs": [
    {
     "data": {
      "text/html": [
       "0.723684210526316"
      ],
      "text/latex": [
       "0.723684210526316"
      ],
      "text/markdown": [
       "0.723684210526316"
      ],
      "text/plain": [
       "[1] 0.7236842"
      ]
     },
     "metadata": {},
     "output_type": "display_data"
    }
   ],
   "source": [
    "## Calculating percent accuracy of model\n",
    "percent_accuracy <- (35 + 20) / (35 + 20 + 6 + 15)\n",
    "percent_accuracy"
   ]
  },
  {
   "cell_type": "markdown",
   "id": "6a52e294-4279-409f-883e-f32d5236a041",
   "metadata": {},
   "source": [
    "**Forward Selection**\n",
    "\n",
    "We implemented forward selection to determine what is the best number of prediction variables to ensure the highest prediction accuracy."
   ]
  },
  {
   "cell_type": "code",
   "execution_count": 37,
   "id": "975ed2b7-1c90-40e5-9fdc-c76c4bf87461",
   "metadata": {
    "vscode": {
     "languageId": "r"
    }
   },
   "outputs": [
    {
     "data": {
      "text/html": [
       "<table class=\"dataframe\">\n",
       "<caption>A tibble: 227 × 6</caption>\n",
       "<thead>\n",
       "\t<tr><th scope=col>age</th><th scope=col>rest_bp</th><th scope=col>cholesterol</th><th scope=col>max_hr</th><th scope=col>st_depr</th><th scope=col>presence</th></tr>\n",
       "\t<tr><th scope=col>&lt;dbl&gt;</th><th scope=col>&lt;dbl&gt;</th><th scope=col>&lt;dbl&gt;</th><th scope=col>&lt;dbl&gt;</th><th scope=col>&lt;dbl&gt;</th><th scope=col>&lt;fct&gt;</th></tr>\n",
       "</thead>\n",
       "<tbody>\n",
       "\t<tr><td>63</td><td>145</td><td>233</td><td>150</td><td>2.3</td><td>no</td></tr>\n",
       "\t<tr><td>37</td><td>130</td><td>250</td><td>187</td><td>3.5</td><td>no</td></tr>\n",
       "\t<tr><td>41</td><td>130</td><td>204</td><td>172</td><td>1.4</td><td>no</td></tr>\n",
       "\t<tr><td>⋮</td><td>⋮</td><td>⋮</td><td>⋮</td><td>⋮</td><td>⋮</td></tr>\n",
       "\t<tr><td>45</td><td>110</td><td>264</td><td>132</td><td>1.2</td><td>yes</td></tr>\n",
       "\t<tr><td>68</td><td>144</td><td>193</td><td>141</td><td>3.4</td><td>yes</td></tr>\n",
       "\t<tr><td>57</td><td>130</td><td>131</td><td>115</td><td>1.2</td><td>yes</td></tr>\n",
       "</tbody>\n",
       "</table>\n"
      ],
      "text/latex": [
       "A tibble: 227 × 6\n",
       "\\begin{tabular}{llllll}\n",
       " age & rest\\_bp & cholesterol & max\\_hr & st\\_depr & presence\\\\\n",
       " <dbl> & <dbl> & <dbl> & <dbl> & <dbl> & <fct>\\\\\n",
       "\\hline\n",
       "\t 63 & 145 & 233 & 150 & 2.3 & no\\\\\n",
       "\t 37 & 130 & 250 & 187 & 3.5 & no\\\\\n",
       "\t 41 & 130 & 204 & 172 & 1.4 & no\\\\\n",
       "\t ⋮ & ⋮ & ⋮ & ⋮ & ⋮ & ⋮\\\\\n",
       "\t 45 & 110 & 264 & 132 & 1.2 & yes\\\\\n",
       "\t 68 & 144 & 193 & 141 & 3.4 & yes\\\\\n",
       "\t 57 & 130 & 131 & 115 & 1.2 & yes\\\\\n",
       "\\end{tabular}\n"
      ],
      "text/markdown": [
       "\n",
       "A tibble: 227 × 6\n",
       "\n",
       "| age &lt;dbl&gt; | rest_bp &lt;dbl&gt; | cholesterol &lt;dbl&gt; | max_hr &lt;dbl&gt; | st_depr &lt;dbl&gt; | presence &lt;fct&gt; |\n",
       "|---|---|---|---|---|---|\n",
       "| 63 | 145 | 233 | 150 | 2.3 | no |\n",
       "| 37 | 130 | 250 | 187 | 3.5 | no |\n",
       "| 41 | 130 | 204 | 172 | 1.4 | no |\n",
       "| ⋮ | ⋮ | ⋮ | ⋮ | ⋮ | ⋮ |\n",
       "| 45 | 110 | 264 | 132 | 1.2 | yes |\n",
       "| 68 | 144 | 193 | 141 | 3.4 | yes |\n",
       "| 57 | 130 | 131 | 115 | 1.2 | yes |\n",
       "\n"
      ],
      "text/plain": [
       "    age rest_bp cholesterol max_hr st_depr presence\n",
       "1   63  145     233         150    2.3     no      \n",
       "2   37  130     250         187    3.5     no      \n",
       "3   41  130     204         172    1.4     no      \n",
       "⋮   ⋮   ⋮       ⋮           ⋮      ⋮       ⋮       \n",
       "225 45  110     264         132    1.2     yes     \n",
       "226 68  144     193         141    3.4     yes     \n",
       "227 57  130     131         115    1.2     yes     "
      ]
     },
     "metadata": {},
     "output_type": "display_data"
    },
    {
     "data": {
      "text/html": [
       "<style>\n",
       ".list-inline {list-style: none; margin:0; padding: 0}\n",
       ".list-inline>li {display: inline-block}\n",
       ".list-inline>li:not(:last-child)::after {content: \"\\00b7\"; padding: 0 .5ex}\n",
       "</style>\n",
       "<ol class=list-inline><li>'age'</li><li>'rest_bp'</li><li>'cholesterol'</li><li>'max_hr'</li><li>'st_depr'</li></ol>\n"
      ],
      "text/latex": [
       "\\begin{enumerate*}\n",
       "\\item 'age'\n",
       "\\item 'rest\\_bp'\n",
       "\\item 'cholesterol'\n",
       "\\item 'max\\_hr'\n",
       "\\item 'st\\_depr'\n",
       "\\end{enumerate*}\n"
      ],
      "text/markdown": [
       "1. 'age'\n",
       "2. 'rest_bp'\n",
       "3. 'cholesterol'\n",
       "4. 'max_hr'\n",
       "5. 'st_depr'\n",
       "\n",
       "\n"
      ],
      "text/plain": [
       "[1] \"age\"         \"rest_bp\"     \"cholesterol\" \"max_hr\"      \"st_depr\"    "
      ]
     },
     "metadata": {},
     "output_type": "display_data"
    },
    {
     "data": {
      "text/html": [
       "'presence ~ age+rest_bp+cholesterol+max_hr+st_depr'"
      ],
      "text/latex": [
       "'presence \\textasciitilde{} age+rest\\_bp+cholesterol+max\\_hr+st\\_depr'"
      ],
      "text/markdown": [
       "'presence ~ age+rest_bp+cholesterol+max_hr+st_depr'"
      ],
      "text/plain": [
       "[1] \"presence ~ age+rest_bp+cholesterol+max_hr+st_depr\""
      ]
     },
     "metadata": {},
     "output_type": "display_data"
    }
   ],
   "source": [
    "heart_train\n",
    "\n",
    "predictors <- colnames(heart_train |> select(-presence))\n",
    "\n",
    "predictors\n",
    "\n",
    "formula <- paste(\"presence\", \"~\", paste(predictors, collapse = \"+\"))\n",
    "\n",
    "formula"
   ]
  },
  {
   "cell_type": "markdown",
   "id": "cfb29180-e54b-4185-9a09-ddf618ca3f8d",
   "metadata": {},
   "source": [
    "**The code below was adapted from chapter 6.8.3 of the textbook.**"
   ]
  },
  {
   "cell_type": "code",
   "execution_count": 38,
   "id": "3264b599-fcac-4c57-8e32-c1f345c40725",
   "metadata": {
    "vscode": {
     "languageId": "r"
    }
   },
   "outputs": [
    {
     "data": {
      "text/html": [
       "<table class=\"dataframe\">\n",
       "<caption>A tibble: 5 × 3</caption>\n",
       "<thead>\n",
       "\t<tr><th scope=col>size</th><th scope=col>model_string</th><th scope=col>accuracy</th></tr>\n",
       "\t<tr><th scope=col>&lt;int&gt;</th><th scope=col>&lt;chr&gt;</th><th scope=col>&lt;dbl&gt;</th></tr>\n",
       "</thead>\n",
       "<tbody>\n",
       "\t<tr><td>1</td><td>presence ~ st_depr                               </td><td>0.7135661</td></tr>\n",
       "\t<tr><td>2</td><td>presence ~ st_depr+max_hr                        </td><td>0.7312516</td></tr>\n",
       "\t<tr><td>3</td><td>presence ~ st_depr+max_hr+rest_bp                </td><td>0.7226526</td></tr>\n",
       "\t<tr><td>4</td><td>presence ~ st_depr+max_hr+rest_bp+age            </td><td>0.7046728</td></tr>\n",
       "\t<tr><td>5</td><td>presence ~ st_depr+max_hr+rest_bp+age+cholesterol</td><td>0.6825384</td></tr>\n",
       "</tbody>\n",
       "</table>\n"
      ],
      "text/latex": [
       "A tibble: 5 × 3\n",
       "\\begin{tabular}{lll}\n",
       " size & model\\_string & accuracy\\\\\n",
       " <int> & <chr> & <dbl>\\\\\n",
       "\\hline\n",
       "\t 1 & presence \\textasciitilde{} st\\_depr                                & 0.7135661\\\\\n",
       "\t 2 & presence \\textasciitilde{} st\\_depr+max\\_hr                         & 0.7312516\\\\\n",
       "\t 3 & presence \\textasciitilde{} st\\_depr+max\\_hr+rest\\_bp                 & 0.7226526\\\\\n",
       "\t 4 & presence \\textasciitilde{} st\\_depr+max\\_hr+rest\\_bp+age             & 0.7046728\\\\\n",
       "\t 5 & presence \\textasciitilde{} st\\_depr+max\\_hr+rest\\_bp+age+cholesterol & 0.6825384\\\\\n",
       "\\end{tabular}\n"
      ],
      "text/markdown": [
       "\n",
       "A tibble: 5 × 3\n",
       "\n",
       "| size &lt;int&gt; | model_string &lt;chr&gt; | accuracy &lt;dbl&gt; |\n",
       "|---|---|---|\n",
       "| 1 | presence ~ st_depr                                | 0.7135661 |\n",
       "| 2 | presence ~ st_depr+max_hr                         | 0.7312516 |\n",
       "| 3 | presence ~ st_depr+max_hr+rest_bp                 | 0.7226526 |\n",
       "| 4 | presence ~ st_depr+max_hr+rest_bp+age             | 0.7046728 |\n",
       "| 5 | presence ~ st_depr+max_hr+rest_bp+age+cholesterol | 0.6825384 |\n",
       "\n"
      ],
      "text/plain": [
       "  size model_string                                      accuracy \n",
       "1 1    presence ~ st_depr                                0.7135661\n",
       "2 2    presence ~ st_depr+max_hr                         0.7312516\n",
       "3 3    presence ~ st_depr+max_hr+rest_bp                 0.7226526\n",
       "4 4    presence ~ st_depr+max_hr+rest_bp+age             0.7046728\n",
       "5 5    presence ~ st_depr+max_hr+rest_bp+age+cholesterol 0.6825384"
      ]
     },
     "metadata": {},
     "output_type": "display_data"
    }
   ],
   "source": [
    "set.seed(100)\n",
    "\n",
    "# create an empty tibble to store the results\n",
    "accuracies <- tibble(size = integer(), \n",
    "                     model_string = character(), \n",
    "                     accuracy = numeric())\n",
    "\n",
    "# create a model specification\n",
    "knn_spec <- nearest_neighbor(weight_func = \"rectangular\", neighbors = tune()) |>\n",
    "     set_engine(\"kknn\") |>\n",
    "     set_mode(\"classification\")\n",
    "\n",
    "# create a 5-fold cross-validation object\n",
    "heart_vfold <- vfold_cv(heart_train, v = 5, strata = presence)\n",
    "\n",
    "# store the total number of predictors\n",
    "n_total <- length(predictors)\n",
    "\n",
    "# stores selected predictors\n",
    "selected <- c()\n",
    "\n",
    "# for every size from 1 to the total number of predictors\n",
    "for (i in 1:n_total) {\n",
    "    # for every predictor still not added yet\n",
    "    accs <- list()\n",
    "    models <- list()\n",
    "    for (j in 1:length(predictors)) {\n",
    "        # create a model string for this combination of predictors\n",
    "        preds_new <- c(selected, predictors[[j]])\n",
    "        model_string <- paste(\"presence\", \"~\", paste(preds_new, collapse=\"+\"))\n",
    "\n",
    "        # create a recipe from the model string\n",
    "        heart_recipe <- recipe(as.formula(model_string), \n",
    "                                data = heart_train) |>\n",
    "                          step_scale(all_predictors()) |>\n",
    "                          step_center(all_predictors())\n",
    "\n",
    "        # tune the KNN classifier with these predictors, \n",
    "        # and collect the accuracy for the best K\n",
    "        acc <- workflow() |>\n",
    "          add_recipe(heart_recipe) |>\n",
    "          add_model(knn_spec) |>\n",
    "          tune_grid(resamples = heart_vfold, grid = 10) |>\n",
    "          collect_metrics() |>\n",
    "          filter(.metric == \"accuracy\") |>\n",
    "          summarize(mx = max(mean))\n",
    "        acc <- acc$mx |> unlist()\n",
    "\n",
    "        # add this result to the dataframe\n",
    "        accs[[j]] <- acc\n",
    "        models[[j]] <- model_string\n",
    "    }\n",
    "    jstar <- which.max(unlist(accs))\n",
    "    accuracies <- accuracies |> \n",
    "      add_row(size = i, \n",
    "              model_string = models[[jstar]], \n",
    "              accuracy = accs[[jstar]])\n",
    "    selected <- c(selected, predictors[[jstar]])\n",
    "    predictors <- predictors[-jstar]\n",
    "}\n",
    "accuracies"
   ]
  },
  {
   "cell_type": "code",
   "execution_count": 39,
   "id": "61943cea-d3b8-41aa-babc-e319560bd378",
   "metadata": {
    "vscode": {
     "languageId": "r"
    }
   },
   "outputs": [
    {
     "data": {
      "image/png": "[encoded data removed]",
      "text/plain": [
       "plot without title"
      ]
     },
     "metadata": {
      "image/png": {
       "height": 420,
       "width": 420
      }
     },
     "output_type": "display_data"
    }
   ],
   "source": [
    "accuracy_plot <- ggplot(accuracies, aes(x = size, y = accuracy)) +\n",
    "    geom_line() +\n",
    "    labs(x = \"Number of Predictors\", y = \"Estimated Accuracy\") +\n",
    "    ggtitle(\"Forward Selection Plot\") +\n",
    "    theme(axis.title = element_text(size = 15)) +\n",
    "    theme(axis.text = element_text(size = 10)) + \n",
    "    theme(plot.title = element_text(size = 20))\n",
    "\n",
    "accuracy_plot"
   ]
  },
  {
   "cell_type": "code",
   "execution_count": 70,
   "id": "d1013c56-528f-4c43-8c47-10d735a7d557",
   "metadata": {
    "vscode": {
     "languageId": "r"
    }
   },
   "outputs": [
    {
     "data": {
      "text/html": [
       "<table class=\"dataframe\">\n",
       "<caption>A tibble: 76 × 7</caption>\n",
       "<thead>\n",
       "\t<tr><th scope=col>.pred_class</th><th scope=col>age</th><th scope=col>rest_bp</th><th scope=col>cholesterol</th><th scope=col>max_hr</th><th scope=col>st_depr</th><th scope=col>presence</th></tr>\n",
       "\t<tr><th scope=col>&lt;fct&gt;</th><th scope=col>&lt;dbl&gt;</th><th scope=col>&lt;dbl&gt;</th><th scope=col>&lt;dbl&gt;</th><th scope=col>&lt;dbl&gt;</th><th scope=col>&lt;dbl&gt;</th><th scope=col>&lt;fct&gt;</th></tr>\n",
       "</thead>\n",
       "<tbody>\n",
       "\t<tr><td>no</td><td>63</td><td>130</td><td>254</td><td>147</td><td>1.4</td><td>yes</td></tr>\n",
       "\t<tr><td>no</td><td>57</td><td>140</td><td>192</td><td>148</td><td>0.4</td><td>no </td></tr>\n",
       "\t<tr><td>no</td><td>56</td><td>130</td><td>256</td><td>142</td><td>0.6</td><td>yes</td></tr>\n",
       "\t<tr><td>⋮</td><td>⋮</td><td>⋮</td><td>⋮</td><td>⋮</td><td>⋮</td><td>⋮</td></tr>\n",
       "\t<tr><td>yes</td><td>59</td><td>164</td><td>176</td><td> 90</td><td>1</td><td>yes</td></tr>\n",
       "\t<tr><td>no </td><td>57</td><td>130</td><td>236</td><td>174</td><td>0</td><td>yes</td></tr>\n",
       "\t<tr><td>no </td><td>38</td><td>138</td><td>175</td><td>173</td><td>0</td><td>no </td></tr>\n",
       "</tbody>\n",
       "</table>\n"
      ],
      "text/latex": [
       "A tibble: 76 × 7\n",
       "\\begin{tabular}{lllllll}\n",
       " .pred\\_class & age & rest\\_bp & cholesterol & max\\_hr & st\\_depr & presence\\\\\n",
       " <fct> & <dbl> & <dbl> & <dbl> & <dbl> & <dbl> & <fct>\\\\\n",
       "\\hline\n",
       "\t no & 63 & 130 & 254 & 147 & 1.4 & yes\\\\\n",
       "\t no & 57 & 140 & 192 & 148 & 0.4 & no \\\\\n",
       "\t no & 56 & 130 & 256 & 142 & 0.6 & yes\\\\\n",
       "\t ⋮ & ⋮ & ⋮ & ⋮ & ⋮ & ⋮ & ⋮\\\\\n",
       "\t yes & 59 & 164 & 176 &  90 & 1 & yes\\\\\n",
       "\t no  & 57 & 130 & 236 & 174 & 0 & yes\\\\\n",
       "\t no  & 38 & 138 & 175 & 173 & 0 & no \\\\\n",
       "\\end{tabular}\n"
      ],
      "text/markdown": [
       "\n",
       "A tibble: 76 × 7\n",
       "\n",
       "| .pred_class &lt;fct&gt; | age &lt;dbl&gt; | rest_bp &lt;dbl&gt; | cholesterol &lt;dbl&gt; | max_hr &lt;dbl&gt; | st_depr &lt;dbl&gt; | presence &lt;fct&gt; |\n",
       "|---|---|---|---|---|---|---|\n",
       "| no | 63 | 130 | 254 | 147 | 1.4 | yes |\n",
       "| no | 57 | 140 | 192 | 148 | 0.4 | no  |\n",
       "| no | 56 | 130 | 256 | 142 | 0.6 | yes |\n",
       "| ⋮ | ⋮ | ⋮ | ⋮ | ⋮ | ⋮ | ⋮ |\n",
       "| yes | 59 | 164 | 176 |  90 | 1 | yes |\n",
       "| no  | 57 | 130 | 236 | 174 | 0 | yes |\n",
       "| no  | 38 | 138 | 175 | 173 | 0 | no  |\n",
       "\n"
      ],
      "text/plain": [
       "   .pred_class age rest_bp cholesterol max_hr st_depr presence\n",
       "1  no          63  130     254         147    1.4     yes     \n",
       "2  no          57  140     192         148    0.4     no      \n",
       "3  no          56  130     256         142    0.6     yes     \n",
       "⋮  ⋮           ⋮   ⋮       ⋮           ⋮      ⋮       ⋮       \n",
       "74 yes         59  164     176          90    1       yes     \n",
       "75 no          57  130     236         174    0       yes     \n",
       "76 no          38  138     175         173    0       no      "
      ]
     },
     "metadata": {},
     "output_type": "display_data"
    },
    {
     "data": {
      "text/html": [
       "<table class=\"dataframe\">\n",
       "<caption>A tibble: 1 × 3</caption>\n",
       "<thead>\n",
       "\t<tr><th scope=col>.metric</th><th scope=col>.estimator</th><th scope=col>.estimate</th></tr>\n",
       "\t<tr><th scope=col>&lt;chr&gt;</th><th scope=col>&lt;chr&gt;</th><th scope=col>&lt;dbl&gt;</th></tr>\n",
       "</thead>\n",
       "<tbody>\n",
       "\t<tr><td>accuracy</td><td>binary</td><td>0.7631579</td></tr>\n",
       "</tbody>\n",
       "</table>\n"
      ],
      "text/latex": [
       "A tibble: 1 × 3\n",
       "\\begin{tabular}{lll}\n",
       " .metric & .estimator & .estimate\\\\\n",
       " <chr> & <chr> & <dbl>\\\\\n",
       "\\hline\n",
       "\t accuracy & binary & 0.7631579\\\\\n",
       "\\end{tabular}\n"
      ],
      "text/markdown": [
       "\n",
       "A tibble: 1 × 3\n",
       "\n",
       "| .metric &lt;chr&gt; | .estimator &lt;chr&gt; | .estimate &lt;dbl&gt; |\n",
       "|---|---|---|\n",
       "| accuracy | binary | 0.7631579 |\n",
       "\n"
      ],
      "text/plain": [
       "  .metric  .estimator .estimate\n",
       "1 accuracy binary     0.7631579"
      ]
     },
     "metadata": {},
     "output_type": "display_data"
    },
    {
     "data": {
      "text/plain": [
       "          Truth\n",
       "Prediction no yes\n",
       "       no  38  15\n",
       "       yes  3  20"
      ]
     },
     "metadata": {},
     "output_type": "display_data"
    },
    {
     "data": {
      "image/png": "[encoded data removed]",
      "text/plain": [
       "plot without title"
      ]
     },
     "metadata": {
      "image/png": {
       "height": 420,
       "width": 420
      }
     },
     "output_type": "display_data"
    }
   ],
   "source": [
    "# Recipe.\n",
    "heart_recipe_final <- recipe(presence ~ st_depr + max_hr, data = heart_train) |>\n",
    "    step_scale(all_predictors()) |>\n",
    "    step_center(all_predictors())\n",
    "\n",
    "# Model specification.\n",
    "heart_spec_final <- nearest_neighbor(weight_func = \"rectangular\", neighbors = 42) |>\n",
    "    set_engine(\"kknn\") |>\n",
    "    set_mode(\"classification\")\n",
    "\n",
    "# Workflow.\n",
    "heart_fit_final <- workflow() |>\n",
    "    add_recipe(heart_recipe_final) |>\n",
    "    add_model(heart_spec_final) |>\n",
    "    fit(data = heart_train)\n",
    "\n",
    "# Predictions.\n",
    "heart_preds_final <- predict(heart_fit_final, heart_test) |>\n",
    "    bind_cols(heart_test)\n",
    "heart_preds_final\n",
    "\n",
    "# Accuracy.\n",
    "accuracy <- heart_preds_final |>\n",
    "    metrics(truth = presence, estimate = .pred_class) |>\n",
    "    filter(.metric == \"accuracy\")\n",
    "accuracy\n",
    "\n",
    "# Confusion matrix.\n",
    "confusion <- heart_preds_final |>\n",
    "    conf_mat(truth = presence, estimate = .pred_class)\n",
    "confusion\n",
    "\n",
    "# Scatterplot.\n",
    "heart_plot <- ggplot(heart_preds_final, aes(x = st_depr, y = max_hr, color = .pred_class)) +\n",
    "    geom_point(size = 3, alpha = 0.7) +\n",
    "    labs(x = \"St Depression\", y = \"Maximum Heart Rate\", color = \"Diagnosis\") +\n",
    "    scale_color_manual(labels = c(\"Absent\", \"Present\"), values = c(\"orange2\", \"steelblue2\")) + \n",
    "    ggtitle(\"Maximum Heart Rate vs. St Depression\") +\n",
    "    theme(text = element_text(size = 12)) +\n",
    "    theme(axis.title = element_text(size = 15)) +\n",
    "    theme(axis.text = element_text(size = 10)) + \n",
    "    theme(plot.title = element_text(size = 20))\n",
    "heart_plot"
   ]
  },
  {
   "attachments": {},
   "cell_type": "markdown",
   "id": "9e24a91d-c742-4862-a36a-e7600a80d8fc",
   "metadata": {},
   "source": [
    "# Discussion"
   ]
  },
  {
   "cell_type": "markdown",
   "id": "6bef888d-0da8-43a0-9774-28a6d2fdc5b7",
   "metadata": {},
   "source": [
    "Since heart disease can affect varying populations differently, we expect differences in the occurrence of heart disease among different age groups, genders, and collections of risk factors such as cholesterol and blood sugar in the development of the disease; furthermore, we expect that the greater one's age, resting blood pressure, serum cholesterol levels, maximum heart rate, and ST depression measurement, the greater the chance of that person being diagnosed with heart disease.\n",
    "\n",
    "The findings of our project can be used to better understand the risk factors for heart disease by identifying populations that are most vulnerable to developing heart disease and recommending lifestyle changes to decrease the chances of developing heart disease, such as by developing better treatment plans suited for certain populations using personalized medicine. This project's findings can also be used for early screening, leading to healthcare professionals recognizing greater risk for heart disease and recommending patients take scanning tests to obtain more data for diagnosis.\n",
    "\n",
    "Some of the future questions this project's findings could lead to include:\n",
    "1. Are there any methods to enhance heart disease diagnostic and screening procedures to ensure earlier recognition and treatment?\n",
    "2. How can healthcare professionals better inform the public about typical heart disease symptoms or warning signs to increase early detection?\n",
    "3. For certain age groups or genders at greater risk of heart disease, are there particular interventions or treatment modalities that are more successful?\n",
    "   "
   ]
  },
  {
   "attachments": {},
   "cell_type": "markdown",
   "id": "41a9e72f-f212-46ac-807c-87daeeb5b2fd",
   "metadata": {},
   "source": [
    "## References\n",
    "\n",
    "1.  Davidovic G, Iric-Cupic V, Milanov S, Dimitijevic A, Petrovic-Janicijevic M. When heart goes \"BOOM\" to fast. Heart rate greater than 80 as mortality predictor in acute myocardial infarction. Am J Cardiovasc Dis. 2013 Aug 16;3(3):120-8. PMID: 23991346; PMCID: PMC3751677.\n",
    "\n",
    "2.  Kashou AH, Basit H, Malik A. ST Segment. [Updated 2022 Aug 8]. In: StatPearls [Internet]. Treasure Island (FL): StatPearls Publishing; 2023 Jan-. Available from: https://www.ncbi.nlm.nih.gov/books/NBK459364/\n",
    "\n",
    "3.  National Center for Chronic Disease Prevention and Health Promotion , Division for Heart Disease and Stroke Prevention. (2022, February 7). Heart Disease Facts. Retrieved March 10, 2022, from https://www.cdc.gov/heartdisease/facts.htm\n",
    "\n",
    "4.  UCI Machine Learning Repository: Heart Disease Data Set. (2019). Uci.edu. https://archive.ics.uci.edu/ml/datasets/Heart+Disease"
   ]
  }
 ],
 "metadata": {
  "kernelspec": {
   "display_name": "R",
   "language": "R",
   "name": "ir"
  },
  "language_info": {
   "codemirror_mode": "r",
   "file_extension": ".r",
   "mimetype": "text/x-r-source",
   "name": "R",
   "pygments_lexer": "r",
   "version": "4.1.3"
  }
 },
 "nbformat": 4,
 "nbformat_minor": 5
}
